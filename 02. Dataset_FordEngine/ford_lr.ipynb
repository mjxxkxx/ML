{
 "cells": [
  {
   "attachments": {},
   "cell_type": "markdown",
   "metadata": {},
   "source": [
    "## 1. 데이터 불러오기"
   ]
  },
  {
   "cell_type": "code",
   "execution_count": 73,
   "metadata": {},
   "outputs": [],
   "source": [
    "import numpy as np\n",
    "import pandas as pd\n",
    "from scipy.io.arff import loadarff\n",
    "from sklearn.model_selection import train_test_split\n",
    "from sklearn.preprocessing import StandardScaler\n",
    "from sklearn.linear_model import LogisticRegression\n",
    "from sklearn.metrics import accuracy_score, confusion_matrix, roc_auc_score\n",
    "import matplotlib.pyplot as plt"
   ]
  },
  {
   "cell_type": "code",
   "execution_count": 74,
   "metadata": {},
   "outputs": [],
   "source": [
    "file_path = './dataset/'\n",
    "train_fn = 'FordA_TRAIN.arff'\n",
    "test_fn = 'FordA_TEST.arff'\n",
    "\n",
    "def read_ariff(path):\n",
    "    raw_data, meta = loadarff(path)\n",
    "    cols = [x for x in meta]\n",
    "    data2d = np.zeros([raw_data.shape[0], len(cols)])\n",
    "\n",
    "    for i, col in zip(range(len(cols)), cols):\n",
    "        data2d[:, i]=raw_data[col]\n",
    "    return data2d\n",
    "\n",
    "train =  read_ariff(file_path + train_fn)\n",
    "test = read_ariff(file_path + test_fn)"
   ]
  },
  {
   "cell_type": "code",
   "execution_count": 75,
   "metadata": {},
   "outputs": [
    {
     "name": "stdout",
     "output_type": "stream",
     "text": [
      "train_set.shape: (3601, 501)\n",
      "test_set.shape: (1320, 501)\n"
     ]
    }
   ],
   "source": [
    "print('train_set.shape:', train.shape)\n",
    "print('test_set.shape:', test.shape)"
   ]
  },
  {
   "cell_type": "code",
   "execution_count": 76,
   "metadata": {},
   "outputs": [],
   "source": [
    "x_train_temp = train[:,:-1]\n",
    "y_train_temp = train[:,-1]\n",
    "\n",
    "x_test = test[:, :-1]\n",
    "y_test = test[:, -1]"
   ]
  },
  {
   "cell_type": "code",
   "execution_count": 77,
   "metadata": {},
   "outputs": [],
   "source": [
    "normal_x = x_train_temp[y_train_temp==1]\n",
    "abnormal_x = x_train_temp[y_train_temp==-1]\n",
    "normal_y = y_train_temp[y_train_temp==1]\n",
    "abnormal_y = y_train_temp[y_train_temp==-1]\n",
    "\n",
    "x_train_normal, x_valid_normal, y_train_normal, y_valid_normal = train_test_split(\n",
    "    normal_x, normal_y, test_size=0.2, random_state=42, stratify=normal_y)\n",
    "\n",
    "x_train_abnormal, x_valid_abnormal, y_train_abnormal, y_valid_abnormal = train_test_split(\n",
    "    abnormal_x, abnormal_y, test_size=0.2, random_state=42, stratify=abnormal_y)\n",
    "\n",
    "x_train = np.concatenate((x_train_normal, x_train_abnormal), axis=0)\n",
    "y_train = np.concatenate((y_train_normal, y_train_abnormal), axis=0)\n",
    "\n",
    "x_valid = np.concatenate((x_valid_normal, x_valid_abnormal), axis=0)\n",
    "y_valid = np.concatenate((y_valid_normal, y_valid_abnormal), axis=0)"
   ]
  },
  {
   "cell_type": "code",
   "execution_count": 78,
   "metadata": {},
   "outputs": [
    {
     "name": "stdout",
     "output_type": "stream",
     "text": [
      "x_train.shape: (2880, 500)\n",
      "x_valid.shape: (721, 500)\n",
      "y_train.shape: (2880,)\n",
      "y_valid.shape: (721,)\n",
      "x_test.shape: (1320, 500)\n",
      "y_test.shape: (1320,)\n"
     ]
    }
   ],
   "source": [
    "print('x_train.shape:', x_train.shape)\n",
    "print('x_valid.shape:', x_valid.shape)\n",
    "print('y_train.shape:', y_train.shape)\n",
    "print('y_valid.shape:', y_valid.shape)\n",
    "print('x_test.shape:', x_test.shape)\n",
    "print('y_test.shape:', y_test.shape)"
   ]
  },
  {
   "attachments": {},
   "cell_type": "markdown",
   "metadata": {},
   "source": [
    "## 2.데이터 전처리"
   ]
  },
  {
   "attachments": {},
   "cell_type": "markdown",
   "metadata": {},
   "source": [
    "#### 2.1 데이터 정규화\n",
    "\n",
    "- 동일 시간 길이(3,600) 내 센서 값들이 넓은 범위로 퍼져있다.\n",
    "\n",
    "- 변수 간의 Scale이 서로 다르기 때문에, 데이터를 그대로 학습하는 것은 적절하지 않다.\n",
    "\n",
    "- 인풋 값들을 정규화(Normalization)을 한다.\n",
    "\n",
    "- 흔히 공정 데이터에는 이상치(Outlier)가 발생할 수 있는데 강건한 정규화가 필요할 때 RobustScaler를 사용한다.\n",
    "\n",
    "- StandScaler는 보다 더 일반적으로 사용하는 정규화 방법\n",
    "\n",
    "    - 데이터를 단위 분산으로 조정함으로써 Outlier에 취약할 수 있음     \n",
    "\n",
    "- RobustScaler는 Feature간 스케일을 갖게 되지만 평균과 분산 대신 중간 값(median)과 사분위값(quartile)을 사용 -> 극단값(Outlier)에 영향을 받지 않음"
   ]
  },
  {
   "cell_type": "code",
   "execution_count": 79,
   "metadata": {},
   "outputs": [
    {
     "name": "stdout",
     "output_type": "stream",
     "text": [
      "x_train shape: (2880, 500)\n",
      "x_valid shape: (721, 500)\n"
     ]
    }
   ],
   "source": [
    "print(\"x_train shape:\", x_train.shape)  # (num_samples, num_features)\n",
    "print(\"x_valid shape:\", x_valid.shape)  # (num_samples, num_features)"
   ]
  },
  {
   "cell_type": "code",
   "execution_count": 80,
   "metadata": {},
   "outputs": [],
   "source": [
    "from sklearn.preprocessing import StandardScaler, RobustScaler\n",
    "\n",
    "stder = StandardScaler()\n",
    "stder.fit(x_train)\n",
    "x_train = stder.transform(x_train)\n",
    "x_valid = stder.transform(x_valid)\n",
    "\n",
    "# rscaler = RobustScaler()\n",
    "# rscaler.fit(x_train)\n",
    "# x_train = rscaler.transform(x_train)\n",
    "# x_valid = rscaler.transform(x_valid)"
   ]
  },
  {
   "attachments": {},
   "cell_type": "markdown",
   "metadata": {},
   "source": [
    "#### 2.2 데이터 형태 변환\n"
   ]
  },
  {
   "cell_type": "code",
   "execution_count": 81,
   "metadata": {},
   "outputs": [],
   "source": [
    "y_train[y_train == -1] = 0\n",
    "y_valid[y_valid == -1] = 0\n",
    "y_test[y_test == -1] = 0"
   ]
  },
  {
   "attachments": {},
   "cell_type": "markdown",
   "metadata": {},
   "source": [
    "## 3.지표 함수"
   ]
  },
  {
   "attachments": {},
   "cell_type": "markdown",
   "metadata": {},
   "source": [
    "##### (1) Confustion Matrix"
   ]
  },
  {
   "cell_type": "code",
   "execution_count": 82,
   "metadata": {},
   "outputs": [],
   "source": [
    "def draw_confusion_matrix(model, xt, yt, model_name):\n",
    "    y_pred = model.predict(xt)\n",
    "    plt.figure(figsize=(3, 3))\n",
    "    cm = confusion_matrix(yt, y_pred)\n",
    "    plt.imshow(cm, interpolation='nearest', cmap=plt.cm.Blues)\n",
    "    plt.title('Confusion Matrix')\n",
    "    plt.colorbar()\n",
    "    tick_marks = np.arange(2)\n",
    "    plt.xticks(tick_marks, ['False', 'True'], rotation=45)\n",
    "    plt.yticks(tick_marks, ['False', 'True'])\n",
    "    thresh = cm.max() / 2\n",
    "    fmt = 'd'\n",
    "    for i, j in itertools.product(range(cm.shape[0]), range(cm.shape[1])):\n",
    "        plt.text(j, i, format(cm[i, j], fmt),\n",
    "                 horizontalalignment='center',\n",
    "                 color='white' if cm[i, j] > thresh else 'black')\n",
    "    plt.ylabel('Actual Label')\n",
    "    plt.xlabel('Predicted Label')\n",
    "    plt.tight_layout()\n",
    "    plt.savefig(f'{model_name}_cm.png', dpi=100, bbox_inches='tight')\n",
    "    plt.show()\n",
    "    print(classification_report(yt, y_pred))"
   ]
  },
  {
   "attachments": {},
   "cell_type": "markdown",
   "metadata": {},
   "source": [
    "##### (2) ROC Curve"
   ]
  },
  {
   "cell_type": "code",
   "execution_count": 119,
   "metadata": {},
   "outputs": [],
   "source": [
    "def draw_roc(model, xt, yt, model_name):\n",
    "    # numpy로 구현한 모델인 경우\n",
    "    if not hasattr(model, 'predict_proba'):\n",
    "        y_pred_proba = model.predict_prob(xt)\n",
    "    else:\n",
    "        # sklearn 모델인 경우\n",
    "        y_pred_proba = model.predict_proba(xt)[:, 1]\n",
    "        \n",
    "    fpr, tpr, _ = roc_curve(yt, y_pred_proba)\n",
    "    roc_auc = auc(fpr, tpr)\n",
    "    \n",
    "    plt.figure()\n",
    "    plt.plot(fpr, tpr, color='darkorange', lw=2, label='ROC curve (area = %0.4f)' % roc_auc)\n",
    "    plt.plot([0, 1], [0, 1], color='navy', lw=2, linestyle='--')\n",
    "    plt.xlim([0.0, 1.0])\n",
    "    plt.ylim([0.0, 1.05])\n",
    "    plt.xlabel('False Positive Rate')\n",
    "    plt.ylabel('True Positive Rate')\n",
    "    plt.title(f'ROC Curve - {model_name}')\n",
    "    plt.legend(loc='lower right')\n",
    "    plt.tight_layout()\n",
    "    plt.savefig(f'{model_name}_roc.png', dpi=100, bbox_inches='tight')\n",
    "    plt.show()"
   ]
  },
  {
   "attachments": {},
   "cell_type": "markdown",
   "metadata": {},
   "source": [
    "##### (3) Epoch에 따른 학습 & 검증의 손실(loss) 그래프\n"
   ]
  },
  {
   "cell_type": "code",
   "execution_count": 84,
   "metadata": {},
   "outputs": [],
   "source": [
    "def plot_loss_graph(history, pic_name):\n",
    "    plt.figure()\n",
    "    plt.plot(history.history['loss'])\n",
    "    plt.plot(history.history['val_loss'])\n",
    "    plt.title('Training & Validation Loss')\n",
    "    plt.ylabel('loss', fontsize='large')\n",
    "    plt.xlabel('epoch', fontsize='large')\n",
    "    plt.legend(['train', 'validation'], loc='best')\n",
    "    plt.tight_layout()\n",
    "    plt.savefig(f'{pic_name}.png', dpi=100, bbox_inches='tight')\n",
    "    plt.show()"
   ]
  },
  {
   "attachments": {},
   "cell_type": "markdown",
   "metadata": {},
   "source": [
    "##### (4) Epoch에 따른 정확도(Accuracy Rate) 그래프"
   ]
  },
  {
   "cell_type": "code",
   "execution_count": 85,
   "metadata": {},
   "outputs": [],
   "source": [
    "def plot_prediction_graph(history, pic_name):\n",
    "    plt.figure()\n",
    "    plt.plot(history.history['sparse_categorical_accuracy'])\n",
    "    plt.plot(history.history['val'+'sparse_categorical_accuracy'])\n",
    "    plt.title('model'+'Prediction Accuracy')\n",
    "    plt.ylabel('sparse_categorical_accuracy', fontsize='large')\n",
    "    plt.xlabel('epoch', fontsize='large')\n",
    "    plt.legend(['train', 'validation'], loc='best')\n",
    "    plt.tight_layout()\n",
    "    plt.savefig(f'{pic_name}.png', dpi=100, bbox_inches='tight')\n",
    "    plt.show()"
   ]
  },
  {
   "attachments": {},
   "cell_type": "markdown",
   "metadata": {},
   "source": [
    "## 4. 모델 구축 및 설계"
   ]
  },
  {
   "attachments": {},
   "cell_type": "markdown",
   "metadata": {},
   "source": [
    "#### 4.1 Logistic Regression"
   ]
  },
  {
   "attachments": {},
   "cell_type": "markdown",
   "metadata": {},
   "source": [
    "##### (1) scikit-learn"
   ]
  },
  {
   "cell_type": "code",
   "execution_count": 86,
   "metadata": {},
   "outputs": [],
   "source": [
    "# clf_lr_1 = LogisticRegression(penalty='l2',\n",
    "#                               tol=0.0001,\n",
    "#                               C=1,\n",
    "#                               fit_intercept=True,\n",
    "#                               intercept_scaling=1,\n",
    "#                               random_state=2,\n",
    "#                               solver='lbfgs',\n",
    "#                               max_iter=1000,\n",
    "#                               multi_class='auto') "
   ]
  },
  {
   "cell_type": "code",
   "execution_count": 87,
   "metadata": {},
   "outputs": [],
   "source": [
    "# x_train_lr = np.concatenate((x_train, x_valid), axis=0)\n",
    "# y_train_lr = np.concatenate((y_train, y_valid), axis=0)"
   ]
  },
  {
   "cell_type": "code",
   "execution_count": 134,
   "metadata": {},
   "outputs": [
    {
     "name": "stderr",
     "output_type": "stream",
     "text": [
      "c:\\Python312\\Lib\\site-packages\\sklearn\\linear_model\\_logistic.py:1247: FutureWarning: 'multi_class' was deprecated in version 1.5 and will be removed in 1.7. From then on, it will always use 'multinomial'. Leave it to its default value to avoid this warning.\n",
      "  warnings.warn(\n"
     ]
    },
    {
     "data": {
      "text/html": [
       "<style>#sk-container-id-4 {\n",
       "  /* Definition of color scheme common for light and dark mode */\n",
       "  --sklearn-color-text: black;\n",
       "  --sklearn-color-line: gray;\n",
       "  /* Definition of color scheme for unfitted estimators */\n",
       "  --sklearn-color-unfitted-level-0: #fff5e6;\n",
       "  --sklearn-color-unfitted-level-1: #f6e4d2;\n",
       "  --sklearn-color-unfitted-level-2: #ffe0b3;\n",
       "  --sklearn-color-unfitted-level-3: chocolate;\n",
       "  /* Definition of color scheme for fitted estimators */\n",
       "  --sklearn-color-fitted-level-0: #f0f8ff;\n",
       "  --sklearn-color-fitted-level-1: #d4ebff;\n",
       "  --sklearn-color-fitted-level-2: #b3dbfd;\n",
       "  --sklearn-color-fitted-level-3: cornflowerblue;\n",
       "\n",
       "  /* Specific color for light theme */\n",
       "  --sklearn-color-text-on-default-background: var(--sg-text-color, var(--theme-code-foreground, var(--jp-content-font-color1, black)));\n",
       "  --sklearn-color-background: var(--sg-background-color, var(--theme-background, var(--jp-layout-color0, white)));\n",
       "  --sklearn-color-border-box: var(--sg-text-color, var(--theme-code-foreground, var(--jp-content-font-color1, black)));\n",
       "  --sklearn-color-icon: #696969;\n",
       "\n",
       "  @media (prefers-color-scheme: dark) {\n",
       "    /* Redefinition of color scheme for dark theme */\n",
       "    --sklearn-color-text-on-default-background: var(--sg-text-color, var(--theme-code-foreground, var(--jp-content-font-color1, white)));\n",
       "    --sklearn-color-background: var(--sg-background-color, var(--theme-background, var(--jp-layout-color0, #111)));\n",
       "    --sklearn-color-border-box: var(--sg-text-color, var(--theme-code-foreground, var(--jp-content-font-color1, white)));\n",
       "    --sklearn-color-icon: #878787;\n",
       "  }\n",
       "}\n",
       "\n",
       "#sk-container-id-4 {\n",
       "  color: var(--sklearn-color-text);\n",
       "}\n",
       "\n",
       "#sk-container-id-4 pre {\n",
       "  padding: 0;\n",
       "}\n",
       "\n",
       "#sk-container-id-4 input.sk-hidden--visually {\n",
       "  border: 0;\n",
       "  clip: rect(1px 1px 1px 1px);\n",
       "  clip: rect(1px, 1px, 1px, 1px);\n",
       "  height: 1px;\n",
       "  margin: -1px;\n",
       "  overflow: hidden;\n",
       "  padding: 0;\n",
       "  position: absolute;\n",
       "  width: 1px;\n",
       "}\n",
       "\n",
       "#sk-container-id-4 div.sk-dashed-wrapped {\n",
       "  border: 1px dashed var(--sklearn-color-line);\n",
       "  margin: 0 0.4em 0.5em 0.4em;\n",
       "  box-sizing: border-box;\n",
       "  padding-bottom: 0.4em;\n",
       "  background-color: var(--sklearn-color-background);\n",
       "}\n",
       "\n",
       "#sk-container-id-4 div.sk-container {\n",
       "  /* jupyter's `normalize.less` sets `[hidden] { display: none; }`\n",
       "     but bootstrap.min.css set `[hidden] { display: none !important; }`\n",
       "     so we also need the `!important` here to be able to override the\n",
       "     default hidden behavior on the sphinx rendered scikit-learn.org.\n",
       "     See: https://github.com/scikit-learn/scikit-learn/issues/21755 */\n",
       "  display: inline-block !important;\n",
       "  position: relative;\n",
       "}\n",
       "\n",
       "#sk-container-id-4 div.sk-text-repr-fallback {\n",
       "  display: none;\n",
       "}\n",
       "\n",
       "div.sk-parallel-item,\n",
       "div.sk-serial,\n",
       "div.sk-item {\n",
       "  /* draw centered vertical line to link estimators */\n",
       "  background-image: linear-gradient(var(--sklearn-color-text-on-default-background), var(--sklearn-color-text-on-default-background));\n",
       "  background-size: 2px 100%;\n",
       "  background-repeat: no-repeat;\n",
       "  background-position: center center;\n",
       "}\n",
       "\n",
       "/* Parallel-specific style estimator block */\n",
       "\n",
       "#sk-container-id-4 div.sk-parallel-item::after {\n",
       "  content: \"\";\n",
       "  width: 100%;\n",
       "  border-bottom: 2px solid var(--sklearn-color-text-on-default-background);\n",
       "  flex-grow: 1;\n",
       "}\n",
       "\n",
       "#sk-container-id-4 div.sk-parallel {\n",
       "  display: flex;\n",
       "  align-items: stretch;\n",
       "  justify-content: center;\n",
       "  background-color: var(--sklearn-color-background);\n",
       "  position: relative;\n",
       "}\n",
       "\n",
       "#sk-container-id-4 div.sk-parallel-item {\n",
       "  display: flex;\n",
       "  flex-direction: column;\n",
       "}\n",
       "\n",
       "#sk-container-id-4 div.sk-parallel-item:first-child::after {\n",
       "  align-self: flex-end;\n",
       "  width: 50%;\n",
       "}\n",
       "\n",
       "#sk-container-id-4 div.sk-parallel-item:last-child::after {\n",
       "  align-self: flex-start;\n",
       "  width: 50%;\n",
       "}\n",
       "\n",
       "#sk-container-id-4 div.sk-parallel-item:only-child::after {\n",
       "  width: 0;\n",
       "}\n",
       "\n",
       "/* Serial-specific style estimator block */\n",
       "\n",
       "#sk-container-id-4 div.sk-serial {\n",
       "  display: flex;\n",
       "  flex-direction: column;\n",
       "  align-items: center;\n",
       "  background-color: var(--sklearn-color-background);\n",
       "  padding-right: 1em;\n",
       "  padding-left: 1em;\n",
       "}\n",
       "\n",
       "\n",
       "/* Toggleable style: style used for estimator/Pipeline/ColumnTransformer box that is\n",
       "clickable and can be expanded/collapsed.\n",
       "- Pipeline and ColumnTransformer use this feature and define the default style\n",
       "- Estimators will overwrite some part of the style using the `sk-estimator` class\n",
       "*/\n",
       "\n",
       "/* Pipeline and ColumnTransformer style (default) */\n",
       "\n",
       "#sk-container-id-4 div.sk-toggleable {\n",
       "  /* Default theme specific background. It is overwritten whether we have a\n",
       "  specific estimator or a Pipeline/ColumnTransformer */\n",
       "  background-color: var(--sklearn-color-background);\n",
       "}\n",
       "\n",
       "/* Toggleable label */\n",
       "#sk-container-id-4 label.sk-toggleable__label {\n",
       "  cursor: pointer;\n",
       "  display: block;\n",
       "  width: 100%;\n",
       "  margin-bottom: 0;\n",
       "  padding: 0.5em;\n",
       "  box-sizing: border-box;\n",
       "  text-align: center;\n",
       "}\n",
       "\n",
       "#sk-container-id-4 label.sk-toggleable__label-arrow:before {\n",
       "  /* Arrow on the left of the label */\n",
       "  content: \"▸\";\n",
       "  float: left;\n",
       "  margin-right: 0.25em;\n",
       "  color: var(--sklearn-color-icon);\n",
       "}\n",
       "\n",
       "#sk-container-id-4 label.sk-toggleable__label-arrow:hover:before {\n",
       "  color: var(--sklearn-color-text);\n",
       "}\n",
       "\n",
       "/* Toggleable content - dropdown */\n",
       "\n",
       "#sk-container-id-4 div.sk-toggleable__content {\n",
       "  max-height: 0;\n",
       "  max-width: 0;\n",
       "  overflow: hidden;\n",
       "  text-align: left;\n",
       "  /* unfitted */\n",
       "  background-color: var(--sklearn-color-unfitted-level-0);\n",
       "}\n",
       "\n",
       "#sk-container-id-4 div.sk-toggleable__content.fitted {\n",
       "  /* fitted */\n",
       "  background-color: var(--sklearn-color-fitted-level-0);\n",
       "}\n",
       "\n",
       "#sk-container-id-4 div.sk-toggleable__content pre {\n",
       "  margin: 0.2em;\n",
       "  border-radius: 0.25em;\n",
       "  color: var(--sklearn-color-text);\n",
       "  /* unfitted */\n",
       "  background-color: var(--sklearn-color-unfitted-level-0);\n",
       "}\n",
       "\n",
       "#sk-container-id-4 div.sk-toggleable__content.fitted pre {\n",
       "  /* unfitted */\n",
       "  background-color: var(--sklearn-color-fitted-level-0);\n",
       "}\n",
       "\n",
       "#sk-container-id-4 input.sk-toggleable__control:checked~div.sk-toggleable__content {\n",
       "  /* Expand drop-down */\n",
       "  max-height: 200px;\n",
       "  max-width: 100%;\n",
       "  overflow: auto;\n",
       "}\n",
       "\n",
       "#sk-container-id-4 input.sk-toggleable__control:checked~label.sk-toggleable__label-arrow:before {\n",
       "  content: \"▾\";\n",
       "}\n",
       "\n",
       "/* Pipeline/ColumnTransformer-specific style */\n",
       "\n",
       "#sk-container-id-4 div.sk-label input.sk-toggleable__control:checked~label.sk-toggleable__label {\n",
       "  color: var(--sklearn-color-text);\n",
       "  background-color: var(--sklearn-color-unfitted-level-2);\n",
       "}\n",
       "\n",
       "#sk-container-id-4 div.sk-label.fitted input.sk-toggleable__control:checked~label.sk-toggleable__label {\n",
       "  background-color: var(--sklearn-color-fitted-level-2);\n",
       "}\n",
       "\n",
       "/* Estimator-specific style */\n",
       "\n",
       "/* Colorize estimator box */\n",
       "#sk-container-id-4 div.sk-estimator input.sk-toggleable__control:checked~label.sk-toggleable__label {\n",
       "  /* unfitted */\n",
       "  background-color: var(--sklearn-color-unfitted-level-2);\n",
       "}\n",
       "\n",
       "#sk-container-id-4 div.sk-estimator.fitted input.sk-toggleable__control:checked~label.sk-toggleable__label {\n",
       "  /* fitted */\n",
       "  background-color: var(--sklearn-color-fitted-level-2);\n",
       "}\n",
       "\n",
       "#sk-container-id-4 div.sk-label label.sk-toggleable__label,\n",
       "#sk-container-id-4 div.sk-label label {\n",
       "  /* The background is the default theme color */\n",
       "  color: var(--sklearn-color-text-on-default-background);\n",
       "}\n",
       "\n",
       "/* On hover, darken the color of the background */\n",
       "#sk-container-id-4 div.sk-label:hover label.sk-toggleable__label {\n",
       "  color: var(--sklearn-color-text);\n",
       "  background-color: var(--sklearn-color-unfitted-level-2);\n",
       "}\n",
       "\n",
       "/* Label box, darken color on hover, fitted */\n",
       "#sk-container-id-4 div.sk-label.fitted:hover label.sk-toggleable__label.fitted {\n",
       "  color: var(--sklearn-color-text);\n",
       "  background-color: var(--sklearn-color-fitted-level-2);\n",
       "}\n",
       "\n",
       "/* Estimator label */\n",
       "\n",
       "#sk-container-id-4 div.sk-label label {\n",
       "  font-family: monospace;\n",
       "  font-weight: bold;\n",
       "  display: inline-block;\n",
       "  line-height: 1.2em;\n",
       "}\n",
       "\n",
       "#sk-container-id-4 div.sk-label-container {\n",
       "  text-align: center;\n",
       "}\n",
       "\n",
       "/* Estimator-specific */\n",
       "#sk-container-id-4 div.sk-estimator {\n",
       "  font-family: monospace;\n",
       "  border: 1px dotted var(--sklearn-color-border-box);\n",
       "  border-radius: 0.25em;\n",
       "  box-sizing: border-box;\n",
       "  margin-bottom: 0.5em;\n",
       "  /* unfitted */\n",
       "  background-color: var(--sklearn-color-unfitted-level-0);\n",
       "}\n",
       "\n",
       "#sk-container-id-4 div.sk-estimator.fitted {\n",
       "  /* fitted */\n",
       "  background-color: var(--sklearn-color-fitted-level-0);\n",
       "}\n",
       "\n",
       "/* on hover */\n",
       "#sk-container-id-4 div.sk-estimator:hover {\n",
       "  /* unfitted */\n",
       "  background-color: var(--sklearn-color-unfitted-level-2);\n",
       "}\n",
       "\n",
       "#sk-container-id-4 div.sk-estimator.fitted:hover {\n",
       "  /* fitted */\n",
       "  background-color: var(--sklearn-color-fitted-level-2);\n",
       "}\n",
       "\n",
       "/* Specification for estimator info (e.g. \"i\" and \"?\") */\n",
       "\n",
       "/* Common style for \"i\" and \"?\" */\n",
       "\n",
       ".sk-estimator-doc-link,\n",
       "a:link.sk-estimator-doc-link,\n",
       "a:visited.sk-estimator-doc-link {\n",
       "  float: right;\n",
       "  font-size: smaller;\n",
       "  line-height: 1em;\n",
       "  font-family: monospace;\n",
       "  background-color: var(--sklearn-color-background);\n",
       "  border-radius: 1em;\n",
       "  height: 1em;\n",
       "  width: 1em;\n",
       "  text-decoration: none !important;\n",
       "  margin-left: 1ex;\n",
       "  /* unfitted */\n",
       "  border: var(--sklearn-color-unfitted-level-1) 1pt solid;\n",
       "  color: var(--sklearn-color-unfitted-level-1);\n",
       "}\n",
       "\n",
       ".sk-estimator-doc-link.fitted,\n",
       "a:link.sk-estimator-doc-link.fitted,\n",
       "a:visited.sk-estimator-doc-link.fitted {\n",
       "  /* fitted */\n",
       "  border: var(--sklearn-color-fitted-level-1) 1pt solid;\n",
       "  color: var(--sklearn-color-fitted-level-1);\n",
       "}\n",
       "\n",
       "/* On hover */\n",
       "div.sk-estimator:hover .sk-estimator-doc-link:hover,\n",
       ".sk-estimator-doc-link:hover,\n",
       "div.sk-label-container:hover .sk-estimator-doc-link:hover,\n",
       ".sk-estimator-doc-link:hover {\n",
       "  /* unfitted */\n",
       "  background-color: var(--sklearn-color-unfitted-level-3);\n",
       "  color: var(--sklearn-color-background);\n",
       "  text-decoration: none;\n",
       "}\n",
       "\n",
       "div.sk-estimator.fitted:hover .sk-estimator-doc-link.fitted:hover,\n",
       ".sk-estimator-doc-link.fitted:hover,\n",
       "div.sk-label-container:hover .sk-estimator-doc-link.fitted:hover,\n",
       ".sk-estimator-doc-link.fitted:hover {\n",
       "  /* fitted */\n",
       "  background-color: var(--sklearn-color-fitted-level-3);\n",
       "  color: var(--sklearn-color-background);\n",
       "  text-decoration: none;\n",
       "}\n",
       "\n",
       "/* Span, style for the box shown on hovering the info icon */\n",
       ".sk-estimator-doc-link span {\n",
       "  display: none;\n",
       "  z-index: 9999;\n",
       "  position: relative;\n",
       "  font-weight: normal;\n",
       "  right: .2ex;\n",
       "  padding: .5ex;\n",
       "  margin: .5ex;\n",
       "  width: min-content;\n",
       "  min-width: 20ex;\n",
       "  max-width: 50ex;\n",
       "  color: var(--sklearn-color-text);\n",
       "  box-shadow: 2pt 2pt 4pt #999;\n",
       "  /* unfitted */\n",
       "  background: var(--sklearn-color-unfitted-level-0);\n",
       "  border: .5pt solid var(--sklearn-color-unfitted-level-3);\n",
       "}\n",
       "\n",
       ".sk-estimator-doc-link.fitted span {\n",
       "  /* fitted */\n",
       "  background: var(--sklearn-color-fitted-level-0);\n",
       "  border: var(--sklearn-color-fitted-level-3);\n",
       "}\n",
       "\n",
       ".sk-estimator-doc-link:hover span {\n",
       "  display: block;\n",
       "}\n",
       "\n",
       "/* \"?\"-specific style due to the `<a>` HTML tag */\n",
       "\n",
       "#sk-container-id-4 a.estimator_doc_link {\n",
       "  float: right;\n",
       "  font-size: 1rem;\n",
       "  line-height: 1em;\n",
       "  font-family: monospace;\n",
       "  background-color: var(--sklearn-color-background);\n",
       "  border-radius: 1rem;\n",
       "  height: 1rem;\n",
       "  width: 1rem;\n",
       "  text-decoration: none;\n",
       "  /* unfitted */\n",
       "  color: var(--sklearn-color-unfitted-level-1);\n",
       "  border: var(--sklearn-color-unfitted-level-1) 1pt solid;\n",
       "}\n",
       "\n",
       "#sk-container-id-4 a.estimator_doc_link.fitted {\n",
       "  /* fitted */\n",
       "  border: var(--sklearn-color-fitted-level-1) 1pt solid;\n",
       "  color: var(--sklearn-color-fitted-level-1);\n",
       "}\n",
       "\n",
       "/* On hover */\n",
       "#sk-container-id-4 a.estimator_doc_link:hover {\n",
       "  /* unfitted */\n",
       "  background-color: var(--sklearn-color-unfitted-level-3);\n",
       "  color: var(--sklearn-color-background);\n",
       "  text-decoration: none;\n",
       "}\n",
       "\n",
       "#sk-container-id-4 a.estimator_doc_link.fitted:hover {\n",
       "  /* fitted */\n",
       "  background-color: var(--sklearn-color-fitted-level-3);\n",
       "}\n",
       "</style><div id=\"sk-container-id-4\" class=\"sk-top-container\"><div class=\"sk-text-repr-fallback\"><pre>LogisticRegression(C=1, max_iter=1000, multi_class=&#x27;auto&#x27;, random_state=2)</pre><b>In a Jupyter environment, please rerun this cell to show the HTML representation or trust the notebook. <br />On GitHub, the HTML representation is unable to render, please try loading this page with nbviewer.org.</b></div><div class=\"sk-container\" hidden><div class=\"sk-item\"><div class=\"sk-estimator fitted sk-toggleable\"><input class=\"sk-toggleable__control sk-hidden--visually\" id=\"sk-estimator-id-4\" type=\"checkbox\" checked><label for=\"sk-estimator-id-4\" class=\"sk-toggleable__label fitted sk-toggleable__label-arrow fitted\">&nbsp;&nbsp;LogisticRegression<a class=\"sk-estimator-doc-link fitted\" rel=\"noreferrer\" target=\"_blank\" href=\"https://scikit-learn.org/1.5/modules/generated/sklearn.linear_model.LogisticRegression.html\">?<span>Documentation for LogisticRegression</span></a><span class=\"sk-estimator-doc-link fitted\">i<span>Fitted</span></span></label><div class=\"sk-toggleable__content fitted\"><pre>LogisticRegression(C=1, max_iter=1000, multi_class=&#x27;auto&#x27;, random_state=2)</pre></div> </div></div></div></div>"
      ],
      "text/plain": [
       "LogisticRegression(C=1, max_iter=1000, multi_class='auto', random_state=2)"
      ]
     },
     "execution_count": 134,
     "metadata": {},
     "output_type": "execute_result"
    }
   ],
   "source": [
    "# clf_lr_1.fit(x_train_lr, y_train_lr)"
   ]
  },
  {
   "cell_type": "code",
   "execution_count": 89,
   "metadata": {},
   "outputs": [
    {
     "name": "stdout",
     "output_type": "stream",
     "text": [
      "Logistic Regression Prediction Rate: 49.0152%\n"
     ]
    }
   ],
   "source": [
    "# y_pred = clf_lr_1.predict(x_test)\n",
    "# score = clf_lr_1.score(x_test, y_test)\n",
    "# print('%s: %.4f%%' % ('Logistic Regression Prediction Rate', score*100))"
   ]
  },
  {
   "cell_type": "code",
   "execution_count": 128,
   "metadata": {},
   "outputs": [
    {
     "name": "stdout",
     "output_type": "stream",
     "text": [
      "F1 Score (sklearn): 0.44971381847914965\n"
     ]
    }
   ],
   "source": [
    "# from sklearn.metrics import f1_score\n",
    "\n",
    "# y_pred = clf_lr_1.predict(x_test)\n",
    "# f1 = f1_score(y_test, y_pred)\n",
    "\n",
    "# print(\"F1 Score (sklearn):\", f1)"
   ]
  },
  {
   "cell_type": "code",
   "execution_count": 90,
   "metadata": {},
   "outputs": [
    {
     "name": "stdout",
     "output_type": "stream",
     "text": [
      "Accuracy:  0.49015151515151517\n",
      "AUC Score:  0.4851858745883688\n"
     ]
    }
   ],
   "source": [
    "# # Performance metrics\n",
    "# print(\"Accuracy: \", accuracy_score(y_test, y_pred))\n",
    "# print(\"AUC Score: \", roc_auc_score(y_test, clf_lr_1.predict_proba(x_test)[:, 1]))"
   ]
  },
  {
   "attachments": {},
   "cell_type": "markdown",
   "metadata": {},
   "source": [
    "##### (2) Numpy"
   ]
  },
  {
   "cell_type": "code",
   "execution_count": 91,
   "metadata": {},
   "outputs": [],
   "source": [
    "class LogisticRegression:\n",
    "    def __init__(self, lr=0.01, num_iter=1000, fit_intercept=True, verbose=False):\n",
    "        self.lr = lr\n",
    "        self.num_iter = num_iter\n",
    "        self.fit_intercept = fit_intercept\n",
    "        self.verbose = verbose\n",
    "        self.eps = 1e-10\n",
    "        self.threshold = 0.5\n",
    "        self.loss_history = list()\n",
    "\n",
    "    def __add_intercept(self, X):\n",
    "        intercept = np.ones((X.shape[0], 1))\n",
    "        return np.concatenate((intercept, X), axis=1)\n",
    "    \n",
    "    def __sigmoid(self, z):\n",
    "        return 1 / (1 + np.exp(-z))\n",
    "    \n",
    "    def __loss(self, h, y):\n",
    "        return(-y * np.log(h + self.eps) - (1 - y) * np.log(1 - h + self.eps)).mean() \n",
    "    \n",
    "    # 학습데이터로 model을 학습하는 메서드\n",
    "    def fit(self, X, y):\n",
    "        if self.fit_intercept:\n",
    "            X = self.__add_intercept(X)\n",
    "\n",
    "            # weights initialization\n",
    "            self.theta = np.zeros(X.shape[1])\n",
    "\n",
    "            for i in range(self.num_iter):\n",
    "                logit = np.dot(X, self.theta)\n",
    "                hypothesis = self.__sigmoid(logit)\n",
    "                gradient = np.dot(X.T, (hypothesis - y)) / y.size\n",
    "                self.theta -= self.lr * gradient\n",
    "\n",
    "                if self.verbose == True and i % 10 == 0:\n",
    "                    loss = self.__loss(hypothesis, y)\n",
    "                    print(f'epoch: {i} \\t loss: {loss} \\t')\n",
    "                    self.loss_history.append(loss)\n",
    "            return self.loss_history\n",
    "\n",
    "    # 학습데이터로 학습된 model을 바탕으로 테스트데이터의 Label을 확인하는 메서드    \n",
    "    def predict_prob(self, X):\n",
    "        if self.fit_intercept:\n",
    "            X = self.__add_intercept(X)\n",
    "        return self.__sigmoid(np.dot(X, self.theta))\n",
    "    \n",
    "    def predict(self, X):\n",
    "        predicted_labels = np.where(self.predict_prob(X)> self.threshold, 1, 0)\n",
    "        return predicted_labels\n",
    "    \n",
    "    # 모델의 테스트 정확도 도출\n",
    "    def eval(self, x, y):\n",
    "        res_y = np.round(self.predict_prob(x), 0)\n",
    "        accuracy = np.sum(res_y==y)/len(y)\n",
    "        return accuracy\n"
   ]
  },
  {
   "cell_type": "code",
   "execution_count": 92,
   "metadata": {},
   "outputs": [
    {
     "name": "stdout",
     "output_type": "stream",
     "text": [
      "epoch: 0 \t loss: 0.6931471803599453 \t\n",
      "epoch: 10 \t loss: 0.6904875992104353 \t\n",
      "epoch: 20 \t loss: 0.6889149696333092 \t\n",
      "epoch: 30 \t loss: 0.6877613977712428 \t\n",
      "epoch: 40 \t loss: 0.6868486595583806 \t\n",
      "epoch: 50 \t loss: 0.6861023103093608 \t\n",
      "epoch: 60 \t loss: 0.685479610670181 \t\n",
      "epoch: 70 \t loss: 0.6849519954113849 \t\n",
      "epoch: 80 \t loss: 0.6844990524825462 \t\n",
      "epoch: 90 \t loss: 0.6841056875212047 \t\n",
      "epoch: 100 \t loss: 0.6837604945134884 \t\n",
      "epoch: 110 \t loss: 0.6834547162780263 \t\n",
      "epoch: 120 \t loss: 0.6831815423893483 \t\n",
      "epoch: 130 \t loss: 0.6829356178979483 \t\n",
      "epoch: 140 \t loss: 0.682712690887489 \t\n",
      "epoch: 150 \t loss: 0.682509354806311 \t\n",
      "epoch: 160 \t loss: 0.6823228572320889 \t\n",
      "epoch: 170 \t loss: 0.6821509561785474 \t\n",
      "epoch: 180 \t loss: 0.6819918109993922 \t\n",
      "epoch: 190 \t loss: 0.6818438988198187 \t\n",
      "epoch: 200 \t loss: 0.6817059500237241 \t\n",
      "epoch: 210 \t loss: 0.6815768981072029 \t\n",
      "epoch: 220 \t loss: 0.6814558404560175 \t\n",
      "epoch: 230 \t loss: 0.6813420074919269 \t\n",
      "epoch: 240 \t loss: 0.6812347382729245 \t\n",
      "epoch: 250 \t loss: 0.6811334611001058 \t\n",
      "epoch: 260 \t loss: 0.6810376780292309 \t\n",
      "epoch: 270 \t loss: 0.6809469524424788 \t\n",
      "epoch: 280 \t loss: 0.6808608990293995 \t\n",
      "epoch: 290 \t loss: 0.6807791756725979 \t\n",
      "epoch: 300 \t loss: 0.6807014768453726 \t\n",
      "epoch: 310 \t loss: 0.6806275282141686 \t\n",
      "epoch: 320 \t loss: 0.6805570822047037 \t\n",
      "epoch: 330 \t loss: 0.6804899143417477 \t\n",
      "epoch: 340 \t loss: 0.6804258202122832 \t\n",
      "epoch: 350 \t loss: 0.6803646129328306 \t\n",
      "epoch: 360 \t loss: 0.6803061210260384 \t\n",
      "epoch: 370 \t loss: 0.6802501866307826 \t\n",
      "epoch: 380 \t loss: 0.6801966639850965 \t\n",
      "epoch: 390 \t loss: 0.6801454181331993 \t\n",
      "epoch: 400 \t loss: 0.680096323817364 \t\n",
      "epoch: 410 \t loss: 0.6800492645228902 \t\n",
      "epoch: 420 \t loss: 0.6800041316504688 \t\n",
      "epoch: 430 \t loss: 0.6799608237950248 \t\n",
      "epoch: 440 \t loss: 0.6799192461139729 \t\n",
      "epoch: 450 \t loss: 0.67987930977093 \t\n",
      "epoch: 460 \t loss: 0.6798409314434044 \t\n",
      "epoch: 470 \t loss: 0.6798040328850148 \t\n",
      "epoch: 480 \t loss: 0.6797685405344108 \t\n",
      "epoch: 490 \t loss: 0.6797343851643987 \t\n",
      "epoch: 500 \t loss: 0.6797015015658531 \t\n",
      "epoch: 510 \t loss: 0.6796698282618749 \t\n",
      "epoch: 520 \t loss: 0.6796393072483814 \t\n",
      "epoch: 530 \t loss: 0.6796098837579015 \t\n",
      "epoch: 540 \t loss: 0.6795815060438452 \t\n",
      "epoch: 550 \t loss: 0.6795541251829089 \t\n",
      "epoch: 560 \t loss: 0.6795276948936286 \t\n",
      "epoch: 570 \t loss: 0.6795021713693554 \t\n",
      "epoch: 580 \t loss: 0.6794775131241751 \t\n",
      "epoch: 590 \t loss: 0.6794536808504796 \t\n",
      "epoch: 600 \t loss: 0.6794306372870675 \t\n",
      "epoch: 610 \t loss: 0.6794083470967891 \t\n",
      "epoch: 620 \t loss: 0.6793867767528682 \t\n",
      "epoch: 630 \t loss: 0.6793658944331373 \t\n",
      "epoch: 640 \t loss: 0.6793456699215054 \t\n",
      "epoch: 650 \t loss: 0.6793260745160523 \t\n",
      "epoch: 660 \t loss: 0.6793070809432116 \t\n",
      "epoch: 670 \t loss: 0.6792886632775545 \t\n",
      "epoch: 680 \t loss: 0.6792707968667391 \t\n",
      "epoch: 690 \t loss: 0.6792534582612294 \t\n",
      "epoch: 700 \t loss: 0.679236625148429 \t\n",
      "epoch: 710 \t loss: 0.6792202762909016 \t\n",
      "epoch: 720 \t loss: 0.679204391468389 \t\n",
      "epoch: 730 \t loss: 0.6791889514233473 \t\n",
      "epoch: 740 \t loss: 0.6791739378097672 \t\n",
      "epoch: 750 \t loss: 0.6791593331450411 \t\n",
      "epoch: 760 \t loss: 0.6791451207646749 \t\n",
      "epoch: 770 \t loss: 0.6791312847796551 \t\n",
      "epoch: 780 \t loss: 0.6791178100362908 \t\n",
      "epoch: 790 \t loss: 0.6791046820783709 \t\n",
      "epoch: 800 \t loss: 0.6790918871114859 \t\n",
      "epoch: 810 \t loss: 0.6790794119693767 \t\n",
      "epoch: 820 \t loss: 0.6790672440821777 \t\n",
      "epoch: 830 \t loss: 0.6790553714464399 \t\n",
      "epoch: 840 \t loss: 0.679043782596821 \t\n",
      "epoch: 850 \t loss: 0.6790324665793369 \t\n",
      "epoch: 860 \t loss: 0.679021412926084 \t\n",
      "epoch: 870 \t loss: 0.6790106116313377 \t\n",
      "epoch: 880 \t loss: 0.6790000531289487 \t\n",
      "epoch: 890 \t loss: 0.6789897282709557 \t\n",
      "epoch: 900 \t loss: 0.6789796283073437 \t\n",
      "epoch: 910 \t loss: 0.6789697448668817 \t\n",
      "epoch: 920 \t loss: 0.6789600699389728 \t\n",
      "epoch: 930 \t loss: 0.6789505958564624 \t\n",
      "epoch: 940 \t loss: 0.6789413152793445 \t\n",
      "epoch: 950 \t loss: 0.6789322211793192 \t\n",
      "epoch: 960 \t loss: 0.6789233068251467 \t\n",
      "epoch: 970 \t loss: 0.6789145657687602 \t\n",
      "epoch: 980 \t loss: 0.678905991832088 \t\n",
      "epoch: 990 \t loss: 0.678897579094548 \t\n"
     ]
    }
   ],
   "source": [
    "clf_lr_2 = LogisticRegression(lr=0.01, num_iter=1000, verbose=True)\n",
    "history_lr = clf_lr_2.fit(x_train_lr, y_train_lr)"
   ]
  },
  {
   "cell_type": "code",
   "execution_count": 126,
   "metadata": {},
   "outputs": [
    {
     "name": "stdout",
     "output_type": "stream",
     "text": [
      "Logistic Regression Prediction Rate: 49.1667%\n"
     ]
    }
   ],
   "source": [
    "score = clf_lr_2.eval(x_test, y_test)\n",
    "print('%s: %.4f%%' % ('Logistic Regression Prediction Rate', score*100))"
   ]
  },
  {
   "cell_type": "code",
   "execution_count": 129,
   "metadata": {},
   "outputs": [
    {
     "name": "stdout",
     "output_type": "stream",
     "text": [
      "F1 Score (numpy): 0.4468260511129431\n"
     ]
    }
   ],
   "source": [
    "from sklearn.metrics import f1_score\n",
    "import numpy as np\n",
    "\n",
    "class LogisticRegressionNumpy:\n",
    "    def __init__(self, lr=0.01, num_iter=1000):\n",
    "        self.lr = lr\n",
    "        self.num_iter = num_iter\n",
    "\n",
    "    def sigmoid(self, z):\n",
    "        return 1 / (1 + np.exp(-z))\n",
    "\n",
    "    def fit(self, X, y):\n",
    "        # 가중치 초기화\n",
    "        self.theta = np.zeros(X.shape[1])\n",
    "\n",
    "        for i in range(self.num_iter):\n",
    "            z = np.dot(X, self.theta)\n",
    "            h = self.sigmoid(z)\n",
    "            gradient = np.dot(X.T, (h - y)) / y.size\n",
    "            self.theta -= self.lr * gradient\n",
    "\n",
    "    def predict(self, X):\n",
    "        return self.sigmoid(np.dot(X, self.theta)) >= 0.5\n",
    "\n",
    "\n",
    "# 예측 및 F1 Score 계산\n",
    "y_pred_numpy = clf_lr_2.predict(x_test)\n",
    "f1_numpy = f1_score(y_test, y_pred_numpy)\n",
    "\n",
    "print(\"F1 Score (numpy):\", f1_numpy)"
   ]
  },
  {
   "cell_type": "code",
   "execution_count": 122,
   "metadata": {},
   "outputs": [
    {
     "name": "stdout",
     "output_type": "stream",
     "text": [
      "Accuracy:  0.49015151515151517\n",
      "AUC Score:  0.4829591023051344\n"
     ]
    }
   ],
   "source": [
    "# Performance metrics\n",
    "print(\"Accuracy: \", accuracy_score(y_test, y_pred))\n",
    "y_pred_proba = clf_lr_2.predict_prob(x_test)\n",
    "print(\"AUC Score: \", roc_auc_score(y_test, y_pred_proba))"
   ]
  },
  {
   "attachments": {},
   "cell_type": "markdown",
   "metadata": {},
   "source": [
    "1. confusion matrix"
   ]
  },
  {
   "cell_type": "code",
   "execution_count": 135,
   "metadata": {},
   "outputs": [
    {
     "data": {
      "image/png": "[encoded data removed]",
      "text/plain": [
       "<Figure size 300x300 with 2 Axes>"
      ]
     },
     "metadata": {},
     "output_type": "display_data"
    },
    {
     "name": "stdout",
     "output_type": "stream",
     "text": [
      "              precision    recall  f1-score   support\n",
      "\n",
      "         0.0       0.51      0.56      0.53       681\n",
      "         1.0       0.47      0.42      0.45       639\n",
      "\n",
      "    accuracy                           0.49      1320\n",
      "   macro avg       0.49      0.49      0.49      1320\n",
      "weighted avg       0.49      0.49      0.49      1320\n",
      "\n"
     ]
    }
   ],
   "source": [
    "# draw_confusion_matrix(clf_lr_1, x_test, y_test, 'logistic_regression_sklearn')\n",
    "draw_confusion_matrix(clf_lr_2, x_test, y_test, 'logistic_regression_numpy')"
   ]
  },
  {
   "attachments": {},
   "cell_type": "markdown",
   "metadata": {},
   "source": [
    "2. ROC Curve"
   ]
  },
  {
   "cell_type": "code",
   "execution_count": 120,
   "metadata": {},
   "outputs": [
    {
     "data": {
      "image/png": "[encoded data removed]",
      "text/plain": [
       "<Figure size 640x480 with 1 Axes>"
      ]
     },
     "metadata": {},
     "output_type": "display_data"
    },
    {
     "data": {
      "image/png": "[encoded data removed]",
      "text/plain": [
       "<Figure size 640x480 with 1 Axes>"
      ]
     },
     "metadata": {},
     "output_type": "display_data"
    }
   ],
   "source": [
    "# draw_roc(clf_lr_1, x_test, y_test, 'logistic_regression_sklearn')\n",
    "draw_roc(clf_lr_2, x_test, y_test, 'logistic_regression_numpy')"
   ]
  },
  {
   "cell_type": "code",
   "execution_count": 109,
   "metadata": {},
   "outputs": [
    {
     "name": "stdout",
     "output_type": "stream",
     "text": [
      "<class '__main__.LogisticRegression'>\n"
     ]
    }
   ],
   "source": [
    "print(type(clf_lr_2))"
   ]
  },
  {
   "cell_type": "code",
   "execution_count": null,
   "metadata": {},
   "outputs": [],
   "source": [
    "y_pred = clf.predict(X_test)\n",
    "f1 = f1_score(y_test, y_pred)\n",
    "\n",
    "print(\"F1 Score (sklearn):\", f1)"
   ]
  },
  {
   "attachments": {},
   "cell_type": "markdown",
   "metadata": {},
   "source": [
    "3. Epoch에 따른 학습 과정중 손실(loss)그래프"
   ]
  },
  {
   "cell_type": "code",
   "execution_count": null,
   "metadata": {},
   "outputs": [],
   "source": [
    "plt.figure()\n",
    "plt.plot(history_lr)\n",
    "plt.title('Training Loss')\n",
    "plt.ylabel('loss', fontsize='large')\n",
    "plt.xlabel('epoch', fontsize='large')\n",
    "plt.tight_layout()\n",
    "plt.savefig('lr_learning_curve.png', dpi=100, bbox_inches='tight')\n",
    "plt.show()"
   ]
  },
  {
   "cell_type": "code",
   "execution_count": null,
   "metadata": {},
   "outputs": [],
   "source": []
  }
 ],
 "metadata": {
  "kernelspec": {
   "display_name": "Python 3",
   "language": "python",
   "name": "python3"
  },
  "language_info": {
   "codemirror_mode": {
    "name": "ipython",
    "version": 3
   },
   "file_extension": ".py",
   "mimetype": "text/x-python",
   "name": "python",
   "nbconvert_exporter": "python",
   "pygments_lexer": "ipython3",
   "version": "3.12.0 (tags/v3.12.0:0fb18b0, Oct  2 2023, 13:03:39) [MSC v.1935 64 bit (AMD64)]"
  },
  "orig_nbformat": 4,
  "vscode": {
   "interpreter": {
    "hash": "3fcbd7240ee8f908d933dc7f71e8c42a1a91163b70ede8dcff5146d4087436c7"
   }
  }
 },
 "nbformat": 4,
 "nbformat_minor": 2
}
