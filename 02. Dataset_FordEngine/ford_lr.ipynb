{
 "cells": [
  {
   "attachments": {},
   "cell_type": "markdown",
   "metadata": {},
   "source": [
    "## 1.데이터로드전처리"
   ]
  },
  {
   "cell_type": "code",
   "execution_count": 27,
   "metadata": {},
   "outputs": [],
   "source": [
    "import itertools\n",
    "import numpy as np\n",
    "import pandas as pd\n",
    "from scipy.io.arff import loadarff\n",
    "from sklearn.model_selection import train_test_split\n",
    "from sklearn.preprocessing import StandardScaler\n",
    "from sklearn.linear_model import LogisticRegression\n",
    "from sklearn.metrics import accuracy_score, confusion_matrix, roc_curve, auc, roc_auc_score, f1_score, classification_report\n",
    "import matplotlib.pyplot as plt"
   ]
  },
  {
   "cell_type": "code",
   "execution_count": 2,
   "metadata": {},
   "outputs": [],
   "source": [
    "file_path = './dataset/'\n",
    "train_fn = 'FordA_TRAIN.arff'\n",
    "test_fn = 'FordA_TEST.arff'\n",
    "\n",
    "def read_ariff(path):\n",
    "    raw_data, meta = loadarff(path)\n",
    "    cols = [x for x in meta]\n",
    "    data2d = np.zeros([raw_data.shape[0], len(cols)])\n",
    "\n",
    "    for i, col in zip(range(len(cols)), cols):\n",
    "        data2d[:, i]=raw_data[col]\n",
    "    return data2d\n",
    "\n",
    "train =  read_ariff(file_path + train_fn)\n",
    "test = read_ariff(file_path + test_fn)"
   ]
  },
  {
   "cell_type": "code",
   "execution_count": 3,
   "metadata": {},
   "outputs": [
    {
     "name": "stdout",
     "output_type": "stream",
     "text": [
      "train_set.shape: (3601, 501)\n",
      "test_set.shape: (1320, 501)\n"
     ]
    }
   ],
   "source": [
    "print('train_set.shape:', train.shape)\n",
    "print('test_set.shape:', test.shape)"
   ]
  },
  {
   "cell_type": "code",
   "execution_count": 4,
   "metadata": {},
   "outputs": [],
   "source": [
    "x_train_temp = train[:,:-1]\n",
    "y_train_temp = train[:,-1]\n",
    "\n",
    "x_test = test[:, :-1]\n",
    "y_test = test[:, -1]"
   ]
  },
  {
   "cell_type": "code",
   "execution_count": 5,
   "metadata": {},
   "outputs": [],
   "source": [
    "normal_x = x_train_temp[y_train_temp==1]\n",
    "abnormal_x = x_train_temp[y_train_temp==-1]\n",
    "normal_y = y_train_temp[y_train_temp==1]\n",
    "abnormal_y = y_train_temp[y_train_temp==-1]\n",
    "\n",
    "x_train_normal, x_valid_normal, y_train_normal, y_valid_normal = train_test_split(\n",
    "    normal_x, normal_y, test_size=0.2, random_state=42, stratify=normal_y)\n",
    "\n",
    "x_train_abnormal, x_valid_abnormal, y_train_abnormal, y_valid_abnormal = train_test_split(\n",
    "    abnormal_x, abnormal_y, test_size=0.2, random_state=42, stratify=abnormal_y)\n",
    "\n",
    "x_train = np.concatenate((x_train_normal, x_train_abnormal), axis=0)\n",
    "y_train = np.concatenate((y_train_normal, y_train_abnormal), axis=0)\n",
    "\n",
    "x_valid = np.concatenate((x_valid_normal, x_valid_abnormal), axis=0)\n",
    "y_valid = np.concatenate((y_valid_normal, y_valid_abnormal), axis=0)"
   ]
  },
  {
   "cell_type": "code",
   "execution_count": 6,
   "metadata": {},
   "outputs": [
    {
     "name": "stdout",
     "output_type": "stream",
     "text": [
      "x_train.shape: (2880, 500)\n",
      "x_valid.shape: (721, 500)\n",
      "y_train.shape: (2880,)\n",
      "y_valid.shape: (721,)\n",
      "x_test.shape: (1320, 500)\n",
      "y_test.shape: (1320,)\n"
     ]
    }
   ],
   "source": [
    "print('x_train.shape:', x_train.shape)\n",
    "print('x_valid.shape:', x_valid.shape)\n",
    "print('y_train.shape:', y_train.shape)\n",
    "print('y_valid.shape:', y_valid.shape)\n",
    "print('x_test.shape:', x_test.shape)\n",
    "print('y_test.shape:', y_test.shape)"
   ]
  },
  {
   "cell_type": "code",
   "execution_count": 7,
   "metadata": {},
   "outputs": [
    {
     "name": "stdout",
     "output_type": "stream",
     "text": [
      "x_train shape: (2880, 500)\n",
      "x_valid shape: (721, 500)\n"
     ]
    }
   ],
   "source": [
    "print(\"x_train shape:\", x_train.shape)  # (num_samples, num_features)\n",
    "print(\"x_valid shape:\", x_valid.shape)  # (num_samples, num_features)"
   ]
  },
  {
   "cell_type": "code",
   "execution_count": 8,
   "metadata": {},
   "outputs": [],
   "source": [
    "from sklearn.preprocessing import StandardScaler, RobustScaler\n",
    "\n",
    "stder = StandardScaler()\n",
    "stder.fit(x_train)\n",
    "x_train = stder.transform(x_train)\n",
    "x_valid = stder.transform(x_valid)\n",
    "\n",
    "# rscaler = RobustScaler()\n",
    "# rscaler.fit(x_train)\n",
    "# x_train = rscaler.transform(x_train)\n",
    "# x_valid = rscaler.transform(x_valid)"
   ]
  },
  {
   "cell_type": "code",
   "execution_count": 9,
   "metadata": {},
   "outputs": [],
   "source": [
    "y_train[y_train == -1] = 0\n",
    "y_valid[y_valid == -1] = 0\n",
    "y_test[y_test == -1] = 0"
   ]
  },
  {
   "attachments": {},
   "cell_type": "markdown",
   "metadata": {},
   "source": [
    "## 3.지표 함수"
   ]
  },
  {
   "attachments": {},
   "cell_type": "markdown",
   "metadata": {},
   "source": [
    "##### (1) Confustion Matrix"
   ]
  },
  {
   "cell_type": "code",
   "execution_count": 10,
   "metadata": {},
   "outputs": [],
   "source": [
    "def draw_confusion_matrix(model, xt, yt, model_name):\n",
    "    y_pred = model.predict(xt)\n",
    "    plt.figure(figsize=(3, 3))\n",
    "    cm = confusion_matrix(yt, y_pred)\n",
    "    plt.imshow(cm, interpolation='nearest', cmap=plt.cm.Blues)\n",
    "    plt.title('Confusion Matrix')\n",
    "    plt.colorbar()\n",
    "    tick_marks = np.arange(2)\n",
    "    plt.xticks(tick_marks, ['False', 'True'], rotation=45)\n",
    "    plt.yticks(tick_marks, ['False', 'True'])\n",
    "    thresh = cm.max() / 2\n",
    "    fmt = 'd'\n",
    "    for i, j in itertools.product(range(cm.shape[0]), range(cm.shape[1])):\n",
    "        plt.text(j, i, format(cm[i, j], fmt),\n",
    "                 horizontalalignment='center',\n",
    "                 color='white' if cm[i, j] > thresh else 'black')\n",
    "    plt.ylabel('Actual Label')\n",
    "    plt.xlabel('Predicted Label')\n",
    "    plt.tight_layout()\n",
    "    plt.savefig(f'{model_name}_cm.png', dpi=100, bbox_inches='tight')\n",
    "    plt.show()\n",
    "    print(classification_report(yt, y_pred))"
   ]
  },
  {
   "attachments": {},
   "cell_type": "markdown",
   "metadata": {},
   "source": [
    "##### (2) ROC Curve"
   ]
  },
  {
   "cell_type": "code",
   "execution_count": 11,
   "metadata": {},
   "outputs": [],
   "source": [
    "def draw_roc(model, xt, yt, model_name):\n",
    "    # numpy로 구현한 모델인 경우\n",
    "    if not hasattr(model, 'predict_proba'):\n",
    "        y_pred_proba = model.predict_prob(xt)\n",
    "    else:\n",
    "        # sklearn 모델인 경우\n",
    "        y_pred_proba = model.predict_proba(xt)[:, 1]\n",
    "        \n",
    "    fpr, tpr, _ = roc_curve(yt, y_pred_proba)\n",
    "    roc_auc = auc(fpr, tpr)\n",
    "    \n",
    "    plt.figure()\n",
    "    plt.plot(fpr, tpr, color='darkorange', lw=2, label='ROC curve (area = %0.4f)' % roc_auc)\n",
    "    plt.plot([0, 1], [0, 1], color='navy', lw=2, linestyle='--')\n",
    "    plt.xlim([0.0, 1.0])\n",
    "    plt.ylim([0.0, 1.05])\n",
    "    plt.xlabel('False Positive Rate')\n",
    "    plt.ylabel('True Positive Rate')\n",
    "    plt.title(f'ROC Curve - {model_name}')\n",
    "    plt.legend(loc='lower right')\n",
    "    plt.tight_layout()\n",
    "    plt.savefig(f'{model_name}_roc.png', dpi=100, bbox_inches='tight')\n",
    "    plt.show()"
   ]
  },
  {
   "attachments": {},
   "cell_type": "markdown",
   "metadata": {},
   "source": [
    "##### (3) Epoch에 따른 학습 & 검증의 손실(loss) 그래프\n"
   ]
  },
  {
   "cell_type": "code",
   "execution_count": 12,
   "metadata": {},
   "outputs": [],
   "source": [
    "def plot_loss_graph(history, pic_name):\n",
    "    plt.figure()\n",
    "    plt.plot(history.history['loss'])\n",
    "    plt.plot(history.history['val_loss'])\n",
    "    plt.title('Training & Validation Loss')\n",
    "    plt.ylabel('loss', fontsize='large')\n",
    "    plt.xlabel('epoch', fontsize='large')\n",
    "    plt.legend(['train', 'validation'], loc='best')\n",
    "    plt.tight_layout()\n",
    "    plt.savefig(f'{pic_name}.png', dpi=100, bbox_inches='tight')\n",
    "    plt.show()"
   ]
  },
  {
   "attachments": {},
   "cell_type": "markdown",
   "metadata": {},
   "source": [
    "##### (4) Epoch에 따른 정확도(Accuracy Rate) 그래프"
   ]
  },
  {
   "cell_type": "code",
   "execution_count": 13,
   "metadata": {},
   "outputs": [],
   "source": [
    "def plot_prediction_graph(history, pic_name):\n",
    "    plt.figure()\n",
    "    plt.plot(history.history['sparse_categorical_accuracy'])\n",
    "    plt.plot(history.history['val'+'sparse_categorical_accuracy'])\n",
    "    plt.title('model'+'Prediction Accuracy')\n",
    "    plt.ylabel('sparse_categorical_accuracy', fontsize='large')\n",
    "    plt.xlabel('epoch', fontsize='large')\n",
    "    plt.legend(['train', 'validation'], loc='best')\n",
    "    plt.tight_layout()\n",
    "    plt.savefig(f'{pic_name}.png', dpi=100, bbox_inches='tight')\n",
    "    plt.show()"
   ]
  },
  {
   "attachments": {},
   "cell_type": "markdown",
   "metadata": {},
   "source": [
    "## 4.모델 구축 및 설계"
   ]
  },
  {
   "attachments": {},
   "cell_type": "markdown",
   "metadata": {},
   "source": [
    "### 4.1 Logistic Regression"
   ]
  },
  {
   "attachments": {},
   "cell_type": "markdown",
   "metadata": {},
   "source": [
    "#### 1)로지스틱 회귀 모델 구현 (Numpy)\n",
    "\n",
    "과정\n",
    "데이터 전처리:\n",
    "\n",
    "절편 항 추가:\n",
    "self.fit_intercept가 True로 설정되어 있으므로, __add_intercept 메서드를 호출하여 **x_train**에 절편 항을 추가합니다.\n",
    "결과적으로 입력 데이터의 형상이 (샘플 수, 특성 수 + 1)이 됩니다.\n",
    "가중치 초기화:\n",
    "\n",
    "가중치 벡터 **self.theta**를 0으로 초기화합니다.\n",
    "가중치의 크기는 **x_train**의 특성 수와 동일합니다.\n",
    "경사 하강법 반복:\n",
    "\n",
    "총 self.num_iter(여기서는 1000번)의 반복을 수행합니다.\n",
    "\n",
    "각 반복에서 다음을 수행합니다:\n",
    "\n",
    "a. 예측 계산:\n",
    "\n",
    "logit = np.dot(X, self.theta):\n",
    "현재 가중치와 입력 데이터의 내적을 계산하여 선형 예측 값을 얻습니다.\n",
    "hypothesis = self.__sigmoid(logit):\n",
    "시그모이드 함수를 적용하여 예측 확률을 계산합니다.\n",
    "b. 손실 및 그래디언트 계산:\n",
    "\n",
    "손실 계산(선택적):\n",
    "self.verbose가 True이고 현재 반복이 10의 배수일 때 손실을 계산합니다.\n",
    "loss = self.__loss(hypothesis, y):\n",
    "현재 예측 값과 실제 레이블을 사용하여 손실을 계산합니다.\n",
    "손실 출력 및 저장:\n",
    "print(f'epoch: {i} \\t loss: {loss} \\t'):\n",
    "현재 에포크와 손실 값을 출력합니다.\n",
    "self.loss_history.append(loss):\n",
    "손실 값을 리스트에 저장합니다.\n",
    "그래디언트 계산:\n",
    "gradient = np.dot(X.T, (hypothesis - y)) / y.size:\n",
    "손실 함수에 대한 가중치의 편미분을 계산합니다.\n",
    "**X.T**는 입력 데이터의 전치 행렬입니다.\n",
    "**(hypothesis - y)**는 예측 확률과 실제 레이블의 차이입니다.\n",
    "c. 가중치 업데이트:\n",
    "\n",
    "self.theta -= self.lr * gradient:\n",
    "학습률과 그래디언트를 사용하여 가중치를 업데이트합니다.\n",
    "이는 손실 함수를 최소화하는 방향으로 가중치를 조정하는 과정입니다.\n",
    "학습 완료:\n",
    "\n",
    "모든 반복이 완료되면 학습이 종료됩니다.\n",
    "self.theta에는 최적화된 가중치 값이 저장되어 있습니다.\n",
    "손실 이력 반환:\n",
    "\n",
    "return self.loss_history:\n",
    "학습 과정에서 계산된 손실 값들의 리스트를 반환합니다.\n",
    "이를 history_lr 변수에 저장합니다.\n",
    "학습 과정에서의 출력 예시\n",
    "verbose=True로 설정되어 있으므로, 매 10번째 에포크마다 손실 값이 출력됩니다."
   ]
  },
  {
   "cell_type": "code",
   "execution_count": 14,
   "metadata": {},
   "outputs": [],
   "source": [
    "class LogisticRegression:\n",
    "    # 1. 생성자 (__init__ 메서드)\n",
    "    # 학습률, 반복 횟수, 절편 사용 여부, 출력 옵션 등을 초기화\n",
    "    def __init__(self, lr=0.01, num_iter=1000, fit_intercept=True, verbose=False):\n",
    "        self.lr = lr # 학습률, 가중치 업데이트의 크기, 기본값 0.01\n",
    "        self.num_iter = num_iter # 경사 하강법의 반복 횟수, 기본값 1000\n",
    "        self.fit_intercept = fit_intercept # 절편 사용 여부, 기본값 True\n",
    "        self.verbose = verbose # 출력 옵션, 기본값 False\n",
    "        self.eps = 1e-10 # 계산 안정성을 위한 작은값, 로그 함수에서 0으로 나누는 것 방지\n",
    "        self.threshold = 0.5 # 클래스 예측 시 확률을 분류할 기준, 기본값 0.5\n",
    "        self.loss_history = list() # 학습 과정에서 loss를 저장하는 리스트\n",
    "\n",
    "    # 2. 절편 항 추가 (__add_intercept 메서드)\n",
    "    def __add_intercept(self, X):\n",
    "        intercept = np.ones((X.shape[0], 1)) # (샘플 수, 1)\n",
    "        return np.concatenate((intercept, X), axis=1) #원본 데이터 X의 왼쪽에 열 방향으로 추가\n",
    "    \n",
    "    # 3. 시그모이드 활성화 함수 (__sigmoid 메서드)\n",
    "    def __sigmoid(self, z):\n",
    "        return 1 / (1 + np.exp(-z)) # 입력값 z를 0과 1 사이의 확률로 변환\n",
    "    \n",
    "    # 4. 손실 함수를 계산 (__loss 메서드) \n",
    "    def __loss(self, h, y): # binary cross entropy\n",
    "        return(-y * np.log(h + self.eps) - (1 - y) * np.log(1 - h + self.eps)).mean() \n",
    "    \n",
    "    # 5. 모델 학습 (fit 메서드)\n",
    "    def fit(self, X, y):\n",
    "        # 1) 절편 항 추가\n",
    "        if self.fit_intercept:\n",
    "            X = self.__add_intercept(X)\n",
    "\n",
    "            # 2) 가중치 초기화\n",
    "            self.theta = np.zeros(X.shape[1])\n",
    "\n",
    "            # 3) 경사 하강법 반복\n",
    "            for i in range(self.num_iter):\n",
    "                # 입력 데이터와 가중치의 내적 계산 -> 선형 결합 결과\n",
    "                logit = np.dot(X, self.theta)\n",
    "                # 시그모이드 함수를 적용하여 예측 확률을 계산 \n",
    "                hypothesis = self.__sigmoid(logit)\n",
    "                # 그래디언트 계산\n",
    "                gradient = np.dot(X.T, (hypothesis - y)) / y.size\n",
    "                # 가중치 업데이트\n",
    "                self.theta -= self.lr * gradient\n",
    "                \n",
    "                # 손실 값 저장 및 출력\n",
    "                # 매 10번째 epoch 마다 loss 계산하고 출력\n",
    "                if self.verbose == True and i % 10 == 0: \n",
    "                    # 현재 예측값과 실제값으로 손실을 계싼\n",
    "                    loss = self.__loss(hypothesis, y)\n",
    "                    print(f'epoch: {i} \\t loss: {loss} \\t')\n",
    "                    # 학습 곡선 그리기 위해 리스트에 저장\n",
    "                    self.loss_history.append(loss)\n",
    "            # 4) 손실 이력 반환\n",
    "            return self.loss_history\n",
    "\n",
    "    # 6. 확률 예측 (predict_prob 메서드)\n",
    "    def predict_prob(self, X):\n",
    "        # 1) 절편 항 추가\n",
    "        if self.fit_intercept:\n",
    "            X = self.__add_intercept(X)\n",
    "        # 2) 예측 계산\n",
    "        return self.__sigmoid(np.dot(X, self.theta))\n",
    "    \n",
    "    # 7. 클래스 예측 (predict 메서드) \n",
    "    def predict(self, X):\n",
    "        # 예측 확률이 self.threshold보다 크면 클래스 1, 아니면 0\n",
    "        predicted_labels = np.where(self.predict_prob(X)> self.threshold, 1, 0)\n",
    "        return predicted_labels\n",
    "    \n",
    "    # 8. 모델 평가 (eval 메서드)\n",
    "    def eval(self, x, y):\n",
    "        # 1) 확률 예측 및 반올림\n",
    "        res_y = np.round(self.predict_prob(x), 0)\n",
    "        # 2) 정확도 계산\n",
    "        accuracy = np.sum(res_y==y)/len(y)\n",
    "        return accuracy"
   ]
  },
  {
   "attachments": {},
   "cell_type": "markdown",
   "metadata": {},
   "source": [
    "#### 2)로지스틱 회귀 모델 학습 및 평가"
   ]
  },
  {
   "cell_type": "code",
   "execution_count": 16,
   "metadata": {},
   "outputs": [
    {
     "name": "stdout",
     "output_type": "stream",
     "text": [
      "epoch: 0 \t loss: 0.6931471803599454 \t\n",
      "epoch: 10 \t loss: 0.6902395371168725 \t\n",
      "epoch: 20 \t loss: 0.6883445390254348 \t\n",
      "epoch: 30 \t loss: 0.6868988858403248 \t\n",
      "epoch: 40 \t loss: 0.6857287848596985 \t\n",
      "epoch: 50 \t loss: 0.6847529393461967 \t\n",
      "epoch: 60 \t loss: 0.6839228524341774 \t\n",
      "epoch: 70 \t loss: 0.6832060166546853 \t\n",
      "epoch: 80 \t loss: 0.6825792884403169 \t\n",
      "epoch: 90 \t loss: 0.682025569678973 \t\n",
      "epoch: 100 \t loss: 0.6815318962022622 \t\n",
      "epoch: 110 \t loss: 0.6810882423162528 \t\n",
      "epoch: 120 \t loss: 0.6806867313024303 \t\n",
      "epoch: 130 \t loss: 0.6803210927723972 \t\n",
      "epoch: 140 \t loss: 0.6799862780011027 \t\n",
      "epoch: 150 \t loss: 0.679678180521367 \t\n",
      "epoch: 160 \t loss: 0.6793934291845107 \t\n",
      "epoch: 170 \t loss: 0.6791292324570576 \t\n",
      "epoch: 180 \t loss: 0.6788832597400932 \t\n",
      "epoch: 190 \t loss: 0.6786535499221443 \t\n",
      "epoch: 200 \t loss: 0.678438440261823 \t\n",
      "epoch: 210 \t loss: 0.6782365106339815 \t\n",
      "epoch: 220 \t loss: 0.6780465395071712 \t\n",
      "epoch: 230 \t loss: 0.6778674689585718 \t\n",
      "epoch: 240 \t loss: 0.6776983767047807 \t\n",
      "epoch: 250 \t loss: 0.6775384536159399 \t\n",
      "epoch: 260 \t loss: 0.6773869855413095 \t\n",
      "epoch: 270 \t loss: 0.677243338543375 \t\n",
      "epoch: 280 \t loss: 0.6771069468401938 \t\n",
      "epoch: 290 \t loss: 0.6769773029096391 \t\n",
      "epoch: 300 \t loss: 0.6768539493270679 \t\n",
      "epoch: 310 \t loss: 0.676736471998768 \t\n",
      "epoch: 320 \t loss: 0.6766244945239668 \t\n",
      "epoch: 330 \t loss: 0.6765176734730545 \t\n",
      "epoch: 340 \t loss: 0.6764156944126449 \t\n",
      "epoch: 350 \t loss: 0.676318268541883 \t\n",
      "epoch: 360 \t loss: 0.6762251298310771 \t\n",
      "epoch: 370 \t loss: 0.6761360325748629 \t\n",
      "epoch: 380 \t loss: 0.6760507492889022 \t\n",
      "epoch: 390 \t loss: 0.6759690688925087 \t\n",
      "epoch: 400 \t loss: 0.6758907951303038 \t\n",
      "epoch: 410 \t loss: 0.6758157451945971 \t\n",
      "epoch: 420 \t loss: 0.6757437485170973 \t\n",
      "epoch: 430 \t loss: 0.6756746457041285 \t\n",
      "epoch: 440 \t loss: 0.6756082875940391 \t\n",
      "epoch: 450 \t loss: 0.675544534419145 \t\n",
      "epoch: 460 \t loss: 0.6754832550575204 \t\n",
      "epoch: 470 \t loss: 0.6754243263623808 \t\n",
      "epoch: 480 \t loss: 0.6753676325587779 \t\n",
      "epoch: 490 \t loss: 0.6753130646989625 \t\n",
      "epoch: 500 \t loss: 0.6752605201691052 \t\n",
      "epoch: 510 \t loss: 0.6752099022411739 \t\n",
      "epoch: 520 \t loss: 0.6751611196646801 \t\n",
      "epoch: 530 \t loss: 0.6751140862937708 \t\n",
      "epoch: 540 \t loss: 0.6750687207457755 \t\n",
      "epoch: 550 \t loss: 0.6750249460878492 \t\n",
      "epoch: 560 \t loss: 0.6749826895487985 \t\n",
      "epoch: 570 \t loss: 0.6749418822535564 \t\n",
      "epoch: 580 \t loss: 0.6749024589780896 \t\n",
      "epoch: 590 \t loss: 0.6748643579227875 \t\n",
      "epoch: 600 \t loss: 0.6748275205026238 \t\n",
      "epoch: 610 \t loss: 0.6747918911525684 \t\n",
      "epoch: 620 \t loss: 0.6747574171469061 \t\n",
      "epoch: 630 \t loss: 0.6747240484312589 \t\n",
      "epoch: 640 \t loss: 0.6746917374662433 \t\n",
      "epoch: 650 \t loss: 0.6746604390817974 \t\n",
      "epoch: 660 \t loss: 0.6746301103413144 \t\n",
      "epoch: 670 \t loss: 0.6746007104148035 \t\n",
      "epoch: 680 \t loss: 0.6745722004603727 \t\n",
      "epoch: 690 \t loss: 0.6745445435133939 \t\n",
      "epoch: 700 \t loss: 0.6745177043827706 \t\n",
      "epoch: 710 \t loss: 0.6744916495537813 \t\n",
      "epoch: 720 \t loss: 0.6744663470970126 \t\n",
      "epoch: 730 \t loss: 0.6744417665829472 \t\n",
      "epoch: 740 \t loss: 0.6744178790017984 \t\n",
      "epoch: 750 \t loss: 0.674394656688225 \t\n",
      "epoch: 760 \t loss: 0.6743720732505857 \t\n",
      "epoch: 770 \t loss: 0.6743501035044203 \t\n",
      "epoch: 780 \t loss: 0.6743287234098717 \t\n",
      "epoch: 790 \t loss: 0.6743079100127825 \t\n",
      "epoch: 800 \t loss: 0.6742876413892213 \t\n",
      "epoch: 810 \t loss: 0.6742678965932131 \t\n",
      "epoch: 820 \t loss: 0.6742486556074657 \t\n",
      "epoch: 830 \t loss: 0.6742298992968956 \t\n",
      "epoch: 840 \t loss: 0.6742116093647759 \t\n",
      "epoch: 850 \t loss: 0.6741937683113407 \t\n",
      "epoch: 860 \t loss: 0.6741763593946875 \t\n",
      "epoch: 870 \t loss: 0.6741593665938379 \t\n",
      "epoch: 880 \t loss: 0.6741427745738218 \t\n",
      "epoch: 890 \t loss: 0.674126568652659 \t\n",
      "epoch: 900 \t loss: 0.6741107347701247 \t\n",
      "epoch: 910 \t loss: 0.6740952594581903 \t\n",
      "epoch: 920 \t loss: 0.6740801298130387 \t\n",
      "epoch: 930 \t loss: 0.6740653334685596 \t\n",
      "epoch: 940 \t loss: 0.6740508585712396 \t\n",
      "epoch: 950 \t loss: 0.674036693756362 \t\n",
      "epoch: 960 \t loss: 0.674022828125443 \t\n",
      "epoch: 970 \t loss: 0.6740092512248298 \t\n",
      "epoch: 980 \t loss: 0.6739959530253957 \t\n",
      "epoch: 990 \t loss: 0.6739829239032706 \t\n"
     ]
    }
   ],
   "source": [
    "# 모델 인스턴스 생성 \n",
    "clf_lr_2 = LogisticRegression(lr=0.01, num_iter=1000, verbose=True)\n",
    "# 모델 학습 \n",
    "history_lr = clf_lr_2.fit(x_train, y_train)"
   ]
  },
  {
   "cell_type": "code",
   "execution_count": 30,
   "metadata": {},
   "outputs": [
    {
     "name": "stdout",
     "output_type": "stream",
     "text": [
      "Logistic Regression Prediction Rate: 49.1667%\n"
     ]
    }
   ],
   "source": [
    "# 모델 평가 및 예측\n",
    "score = clf_lr_2.eval(x_test, y_test)\n",
    "print('%s: %.4f%%' % ('Logistic Regression Prediction Rate', score*100))"
   ]
  },
  {
   "attachments": {},
   "cell_type": "markdown",
   "metadata": {},
   "source": [
    "#### 3)성능 지표 계산"
   ]
  },
  {
   "cell_type": "code",
   "execution_count": 18,
   "metadata": {},
   "outputs": [
    {
     "name": "stdout",
     "output_type": "stream",
     "text": [
      "F1 Score (numpy): 0.45402766476810413\n",
      "Accuracy:  0.49166666666666664\n",
      "AUC Score:  0.47467017802688216\n"
     ]
    }
   ],
   "source": [
    "y_pred_numpy = clf_lr_2.predict(x_test)\n",
    "f1_numpy = f1_score(y_test, y_pred_numpy)\n",
    "print(\"F1 Score (numpy):\", f1_numpy)\n",
    "\n",
    "print(\"Accuracy: \", accuracy_score(y_test, y_pred_numpy))\n",
    "y_pred_proba = clf_lr_2.predict_prob(x_test)\n",
    "print(\"AUC Score: \", roc_auc_score(y_test, y_pred_proba))"
   ]
  },
  {
   "attachments": {},
   "cell_type": "markdown",
   "metadata": {},
   "source": [
    "#### 4)CM 및 ROC Curve 그리기"
   ]
  },
  {
   "cell_type": "code",
   "execution_count": 28,
   "metadata": {},
   "outputs": [
    {
     "data": {
      "image/png": "[encoded data removed]",
      "text/plain": [
       "<Figure size 300x300 with 2 Axes>"
      ]
     },
     "metadata": {},
     "output_type": "display_data"
    },
    {
     "name": "stdout",
     "output_type": "stream",
     "text": [
      "              precision    recall  f1-score   support\n",
      "\n",
      "         0.0       0.51      0.54      0.52       681\n",
      "         1.0       0.47      0.44      0.45       639\n",
      "\n",
      "    accuracy                           0.49      1320\n",
      "   macro avg       0.49      0.49      0.49      1320\n",
      "weighted avg       0.49      0.49      0.49      1320\n",
      "\n"
     ]
    },
    {
     "data": {
      "image/png": "[encoded data removed]",
      "text/plain": [
       "<Figure size 640x480 with 1 Axes>"
      ]
     },
     "metadata": {},
     "output_type": "display_data"
    }
   ],
   "source": [
    "draw_confusion_matrix(clf_lr_2, x_test, y_test, 'logistic_regression_numpy')\n",
    "draw_roc(clf_lr_2, x_test, y_test, 'logistic_regression_numpy')"
   ]
  },
  {
   "cell_type": "code",
   "execution_count": 29,
   "metadata": {},
   "outputs": [
    {
     "data": {
      "image/png": "[encoded data removed]",
      "text/plain": [
       "<Figure size 640x480 with 1 Axes>"
      ]
     },
     "metadata": {},
     "output_type": "display_data"
    }
   ],
   "source": [
    "plt.figure()\n",
    "plt.plot(history_lr)\n",
    "plt.title('Training Loss')\n",
    "plt.ylabel('loss', fontsize='large')\n",
    "plt.xlabel('epoch', fontsize='large')\n",
    "plt.tight_layout()\n",
    "plt.savefig('lr_learning_curve.png', dpi=100, bbox_inches='tight')\n",
    "plt.show()"
   ]
  },
  {
   "cell_type": "code",
   "execution_count": null,
   "metadata": {},
   "outputs": [],
   "source": []
  }
 ],
 "metadata": {
  "kernelspec": {
   "display_name": "Python 3",
   "language": "python",
   "name": "python3"
  },
  "language_info": {
   "codemirror_mode": {
    "name": "ipython",
    "version": 3
   },
   "file_extension": ".py",
   "mimetype": "text/x-python",
   "name": "python",
   "nbconvert_exporter": "python",
   "pygments_lexer": "ipython3",
   "version": "3.12.0"
  },
  "orig_nbformat": 4,
  "vscode": {
   "interpreter": {
    "hash": "3fcbd7240ee8f908d933dc7f71e8c42a1a91163b70ede8dcff5146d4087436c7"
   }
  }
 },
 "nbformat": 4,
 "nbformat_minor": 2
}
