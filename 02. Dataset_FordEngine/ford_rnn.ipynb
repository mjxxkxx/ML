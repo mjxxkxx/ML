{
 "cells": [
  {
   "cell_type": "code",
   "execution_count": 49,
   "metadata": {},
   "outputs": [],
   "source": [
    "import itertools\n",
    "from time import time\n",
    "import numpy as np\n",
    "import pandas as pd\n",
    "import matplotlib.pyplot as plt\n",
    "from scipy.io.arff import loadarff\n",
    "from sklearn.preprocessing import StandardScaler, RobustScaler\n",
    "import tensorflow as tf\n",
    "from sklearn.model_selection import train_test_split"
   ]
  },
  {
   "cell_type": "code",
   "execution_count": 50,
   "metadata": {},
   "outputs": [],
   "source": [
    "file_path = './dataset/'\n",
    "train_fn = 'FordA_TRAIN.arff'\n",
    "test_fn = 'FordA_TEST.arff'\n",
    "\n",
    "def read_ariff(path):\n",
    "    raw_data, meta = loadarff(path)\n",
    "    cols = [x for x in meta]\n",
    "    data2d = np.zeros([raw_data.shape[0], len(cols)])\n",
    "\n",
    "    for i, col in zip(range(len(cols)), cols):\n",
    "        data2d[:, i]=raw_data[col]\n",
    "    return data2d\n",
    "\n",
    "train =  read_ariff(file_path + train_fn)\n",
    "test = read_ariff(file_path + test_fn)"
   ]
  },
  {
   "cell_type": "code",
   "execution_count": 51,
   "metadata": {},
   "outputs": [
    {
     "name": "stdout",
     "output_type": "stream",
     "text": [
      "train_set.shape: (3601, 501)\n",
      "test_set.shape: (1320, 501)\n"
     ]
    }
   ],
   "source": [
    "print('train_set.shape:', train.shape)\n",
    "print('test_set.shape:', test.shape)"
   ]
  },
  {
   "cell_type": "code",
   "execution_count": 52,
   "metadata": {},
   "outputs": [],
   "source": [
    "x_train_temp = train[:,:-1]\n",
    "y_train_temp = train[:,-1]\n",
    "\n",
    "x_test = test[:, :-1]\n",
    "y_test = test[:, -1]"
   ]
  },
  {
   "cell_type": "code",
   "execution_count": 53,
   "metadata": {},
   "outputs": [],
   "source": [
    "normal_x = x_train_temp[y_train_temp==1]\n",
    "abnormal_x = x_train_temp[y_train_temp==-1]\n",
    "normal_y = y_train_temp[y_train_temp==1]\n",
    "abnormal_y = y_train_temp[y_train_temp==-1]\n",
    "\n",
    "x_train_normal, x_valid_normal, y_train_normal, y_valid_normal = train_test_split(\n",
    "    normal_x, normal_y, test_size=0.2, random_state=42, stratify=normal_y)\n",
    "\n",
    "x_train_abnormal, x_valid_abnormal, y_train_abnormal, y_valid_abnormal = train_test_split(\n",
    "    abnormal_x, abnormal_y, test_size=0.2, random_state=42, stratify=abnormal_y)\n",
    "\n",
    "x_train = np.concatenate((x_train_normal, x_train_abnormal), axis=0)\n",
    "y_train = np.concatenate((y_train_normal, y_train_abnormal), axis=0)\n",
    "\n",
    "x_valid = np.concatenate((x_valid_normal, x_valid_abnormal), axis=0)\n",
    "y_valid = np.concatenate((y_valid_normal, y_valid_abnormal), axis=0)"
   ]
  },
  {
   "cell_type": "code",
   "execution_count": 54,
   "metadata": {},
   "outputs": [
    {
     "name": "stdout",
     "output_type": "stream",
     "text": [
      "x_train.shape: (2880, 500)\n",
      "x_valid.shape: (721, 500)\n",
      "y_train.shape: (2880,)\n",
      "y_valid.shape: (721,)\n",
      "x_test.shape: (1320, 500)\n",
      "y_test.shape: (1320,)\n"
     ]
    }
   ],
   "source": [
    "print('x_train.shape:', x_train.shape)\n",
    "print('x_valid.shape:', x_valid.shape)\n",
    "print('y_train.shape:', y_train.shape)\n",
    "print('y_valid.shape:', y_valid.shape)\n",
    "print('x_test.shape:', x_test.shape)\n",
    "print('y_test.shape:', y_test.shape)"
   ]
  },
  {
   "attachments": {},
   "cell_type": "markdown",
   "metadata": {},
   "source": [
    "## 2.데이터 전처리"
   ]
  },
  {
   "attachments": {},
   "cell_type": "markdown",
   "metadata": {},
   "source": [
    "#### 2.1 데이터 정규화\n",
    "\n",
    "- 동일 시간 길이(3,600) 내 센서 값들이 넓은 범위로 퍼져있다.\n",
    "\n",
    "- 변수 간의 Scale이 서로 다르기 때문에, 데이터를 그대로 학습하는 것은 적절하지 않다.\n",
    "\n",
    "- 인풋 값들을 정규화(Normalization)을 한다.\n",
    "\n",
    "- 흔히 공정 데이터에는 이상치(Outlier)가 발생할 수 있는데 강건한 정규화가 필요할 때 RobustScaler를 사용한다.\n",
    "\n",
    "- StandScaler는 보다 더 일반적으로 사용하는 정규화 방법\n",
    "\n",
    "    - 데이터를 단위 분산으로 조정함으로써 Outlier에 취약할 수 있음     \n",
    "\n",
    "- RobustScaler는 Feature간 스케일을 갖게 되지만 평균과 분산 대신 중간 값(median)과 사분위값(quartile)을 사용 -> 극단값(Outlier)에 영향을 받지 않음"
   ]
  },
  {
   "cell_type": "code",
   "execution_count": 55,
   "metadata": {},
   "outputs": [
    {
     "name": "stdout",
     "output_type": "stream",
     "text": [
      "x_train shape: (2880, 500)\n",
      "x_valid shape: (721, 500)\n"
     ]
    }
   ],
   "source": [
    "print(\"x_train shape:\", x_train.shape)  # (num_samples, num_features)\n",
    "print(\"x_valid shape:\", x_valid.shape)  # (num_samples, num_features)"
   ]
  },
  {
   "cell_type": "code",
   "execution_count": 56,
   "metadata": {},
   "outputs": [],
   "source": [
    "from sklearn.preprocessing import StandardScaler, RobustScaler\n",
    "\n",
    "stder = StandardScaler()\n",
    "stder.fit(x_train)\n",
    "x_train = stder.transform(x_train)\n",
    "x_valid = stder.transform(x_valid)\n",
    "\n",
    "# rscaler = RobustScaler()\n",
    "# rscaler.fit(x_train)\n",
    "# x_train = rscaler.transform(x_train)\n",
    "# x_valid = rscaler.transform(x_valid)"
   ]
  },
  {
   "attachments": {},
   "cell_type": "markdown",
   "metadata": {},
   "source": [
    "#### 2.2 데이터 형태 변환\n"
   ]
  },
  {
   "cell_type": "code",
   "execution_count": 57,
   "metadata": {},
   "outputs": [],
   "source": [
    "y_train[y_train == -1] = 0\n",
    "y_valid[y_valid == -1] = 0\n",
    "y_test[y_test == -1] = 0"
   ]
  },
  {
   "cell_type": "code",
   "execution_count": 58,
   "metadata": {},
   "outputs": [
    {
     "name": "stdout",
     "output_type": "stream",
     "text": [
      "x_train_exp의 형태: (2880, 500, 1)\n",
      "x_valid_exp의 형태: (721, 500, 1)\n",
      "x_test_exp의 형태: (1320, 500, 1)\n"
     ]
    }
   ],
   "source": [
    "x_train_exp = np.expand_dims(x_train, -1)\n",
    "x_valid_exp = np.expand_dims(x_valid, -1)\n",
    "x_test_exp = np.expand_dims(x_test, -1)\n",
    "\n",
    "# x_train_exp = x_train.reshape((x_train.shape[0], x_train.shape[1], 1))\n",
    "# x_valid_exp = x_valid.reshape((x_valid.shape[0], x_valid.shape[1], 1))\n",
    "# x_test_exp = x_test.reshape((x_test.shape[0], x_test.shape[1], 1))\n",
    "\n",
    "print('x_train_exp의 형태:', x_train_exp.shape)\n",
    "print('x_valid_exp의 형태:', x_valid_exp.shape)\n",
    "print('x_test_exp의 형태:', x_test_exp.shape)"
   ]
  },
  {
   "attachments": {},
   "cell_type": "markdown",
   "metadata": {},
   "source": [
    "## 3.지표함수"
   ]
  },
  {
   "attachments": {},
   "cell_type": "markdown",
   "metadata": {},
   "source": [
    "##### (1) Confustion Matrix"
   ]
  },
  {
   "cell_type": "code",
   "execution_count": 59,
   "metadata": {},
   "outputs": [],
   "source": [
    "from sklearn.metrics import classification_report, confusion_matrix\n",
    "\n",
    "def draw_confusion_matrix(model, xt, yt, model_name):\n",
    "    Y_pred = model.predict(xt)\n",
    "\n",
    "    if model_name in ['cnn', 'rnn']:\n",
    "        y_pred = np.argmax(Y_pred, axis=1)\n",
    "    else: y_pred = Y_pred\n",
    "\n",
    "    plt.figure(figsize=(3,3))\n",
    "    cm = confusion_matrix(yt, y_pred)\n",
    "    plt.imshow(cm, interpolation='nearest', cmap=plt.cm.Blues)\n",
    "    plt.title('Confusion Matrix')\n",
    "    plt.colorbar()\n",
    "    tick_marks = np.arange(2)\n",
    "    plt.xticks(tick_marks, ['False', 'True'], rotation=45)\n",
    "    plt.yticks(tick_marks, ['False', 'True'])\n",
    "    thresh = cm.max()/1.2\n",
    "    normalize = False\n",
    "\n",
    "    fmt = '.2f' if normalize else 'd'\n",
    "    for i, j in itertools.product(range(cm.shape[0]), range(cm.shape[1])):\n",
    "        plt.text(j, i, format(cm[i,j], fmt),\n",
    "                        horizontalalignment = 'center',\n",
    "                        color = 'white' if cm[i, j] > thresh else 'black',\n",
    "                        fontsize = 12)\n",
    "\n",
    "    plt.ylabel('Actual Label')\n",
    "    plt.xlabel('Predicted Label')\n",
    "    plt.tight_layout()\n",
    "    plt.savefig(f'{model_name}_cm.png', dpi=100, bbox_inches='tight')\n",
    "    plt.show()\n",
    "\n",
    "    print(classification_report(yt, y_pred))"
   ]
  },
  {
   "attachments": {},
   "cell_type": "markdown",
   "metadata": {},
   "source": [
    "##### (2) ROC Curve"
   ]
  },
  {
   "cell_type": "code",
   "execution_count": 60,
   "metadata": {},
   "outputs": [],
   "source": [
    "from sklearn.metrics import roc_curve, auc\n",
    "\n",
    "def draw_roc(model, xt, yt, model_name):\n",
    "    Y_pred = model.predict(xt)\n",
    "\n",
    "    if model_name in ['cnn', 'rnn']:\n",
    "        y_pred = np.argmax(Y_pred, axis=1)\n",
    "    else: y_pred = Y_pred\n",
    "\n",
    "    fpr, tpr, thr = roc_curve(yt, y_pred)\n",
    "    roc_auc = auc(fpr, tpr)\n",
    "    plt.figure()\n",
    "    lw = 2\n",
    "    plt.plot(fpr, tpr, color='darkorange',\n",
    "                        lw=lw, label='ROC curve (area = %0.2f)' % roc_auc)\n",
    "    plt.plot([0,1],[0,1], color='navy', lw=lw, linestyle='--')\n",
    "    plt.xlim([0.0, 1.0])\n",
    "    plt.ylim([0.0, 1.05])\n",
    "    plt.xlabel('False Positive Rate')\n",
    "    plt.ylabel('True Positive Rate')\n",
    "    plt.title('Receiver operating characteristic {};'.format(model_name))\n",
    "    plt.legend(loc='lower right')\n",
    "    plt.ion()\n",
    "    plt.tight_layout\n",
    "    plt.savefig(f'{model_name}_roc.png', dpi=100, bbox_inches='tight')\n",
    "    plt.show()"
   ]
  },
  {
   "attachments": {},
   "cell_type": "markdown",
   "metadata": {},
   "source": [
    "##### (3) Epoch에 따른 학습 & 검증의 손실(loss) 그래프\n"
   ]
  },
  {
   "cell_type": "code",
   "execution_count": 78,
   "metadata": {},
   "outputs": [],
   "source": [
    "def plot_loss_graph(history, pic_name):\n",
    "    plt.figure()\n",
    "    plt.plot(history.history['loss'])\n",
    "    plt.plot(history.history['val_loss'])\n",
    "    plt.title('Training & Validation Loss')\n",
    "    plt.ylabel('loss', fontsize='large')\n",
    "    plt.xlabel('epoch', fontsize='large')\n",
    "    plt.legend(['train', 'validation'], loc='best')\n",
    "    plt.tight_layout()\n",
    "    plt.savefig(f'{pic_name}_loss.png', dpi=100, bbox_inches='tight')\n",
    "    plt.show()"
   ]
  },
  {
   "attachments": {},
   "cell_type": "markdown",
   "metadata": {},
   "source": [
    "##### (4) Epoch에 따른 정확도(Accuracy Rate) 그래프"
   ]
  },
  {
   "cell_type": "code",
   "execution_count": 79,
   "metadata": {},
   "outputs": [],
   "source": [
    "def plot_prediction_graph(history, pic_name):\n",
    "    plt.figure()\n",
    "    plt.plot(history.history['sparse_categorical_accuracy'])\n",
    "    plt.plot(history.history['val_sparse_categorical_accuracy'])\n",
    "    plt.title('model'+'Prediction Accuracy')\n",
    "    plt.ylabel('sparse_categorical_accuracy', fontsize='large')\n",
    "    plt.xlabel('epoch', fontsize='large')\n",
    "    plt.legend(['train', 'validation'], loc='best')\n",
    "    plt.tight_layout()\n",
    "    plt.savefig(f'{pic_name}_auc.png', dpi=100, bbox_inches='tight')\n",
    "    plt.show()"
   ]
  },
  {
   "attachments": {},
   "cell_type": "markdown",
   "metadata": {},
   "source": [
    "## 4. 모델 구축 및 설계"
   ]
  },
  {
   "attachments": {},
   "cell_type": "markdown",
   "metadata": {},
   "source": [
    "#### 4.3 순한 신경망(Recurrent Neural Network)"
   ]
  },
  {
   "attachments": {},
   "cell_type": "markdown",
   "metadata": {},
   "source": [
    "- RNN의 특성상 정보와 그 정보를 사용하는 지점 사이의 거리가 멀 경우, 역전파(Backpropagation)시 경사도(Gradient)값이 점차 줄어 해당 노드가 학습되지 않는 vanishing gradient problem이 발생\n",
    "\n",
    "- 장단기 메모리 모델(Long Short Term Memory, LSTM) -> 기존의 RNN 계열 모델의 약점을 보완\n",
    "\n",
    "- LSTM은 RNN의 숨겨진 상태(hidden state)에 셀 상태(cell-stte)를 추가한 구조\n",
    " "
   ]
  },
  {
   "cell_type": "code",
   "execution_count": 63,
   "metadata": {},
   "outputs": [],
   "source": [
    "# from tensorflow.keras.models import Sequential\n",
    "# from tensorflow.keras.layers import LSTM, GlobalAveragePooling1D, Dense\n",
    "\n",
    "# def make_rnn_model():\n",
    "#     model = Sequential()\n",
    "#     model.add(LSTM(units=256, return_sequences=True, input_shape=(500, 1)))\n",
    "#     model.add(GlobalAveragePooling1D())\n",
    "#     model.add(Dense(100, activation='relu'))\n",
    "#     model.add(Dense(2, activation='softmax'))\n",
    "#     return model\n",
    "\n",
    "# rnn_model = make_rnn_model()"
   ]
  },
  {
   "cell_type": "code",
   "execution_count": 64,
   "metadata": {},
   "outputs": [],
   "source": [
    "# from tensorflow.keras.callbacks import Callback, EarlyStopping, ModelCheckpoint, ReduceLROnPlateau\n",
    "\n",
    "# epochs = 100\n",
    "# batch_size=64\n",
    "# rnn_model.compile(loss='sparse_categorical_crossentropy',\n",
    "#                   optimizer='adam',\n",
    "#                   metrics=['sparse_categorical_accuracy']\n",
    "#                 )\n",
    "\n",
    "# callbacks = [ModelCheckpoint('rnn_best_model.keras',\n",
    "#                             monitor='val_loss',\n",
    "#                             save_best_only=True),\n",
    "#             ReduceLROnPlateau(\n",
    "#                 monitor='val_loss', factor=0.5, patience=20, min_lr=0.0001\n",
    "#             ),\n",
    "#             EarlyStopping(monitor='val_loss', patience=10, verbose=1)\n",
    "#             ]\n",
    "\n",
    "# history_rnn = rnn_model.fit(\n",
    "#   x_train_exp,\n",
    "#   y_train,\n",
    "#   batch_size=batch_size,\n",
    "#   epochs=epochs,\n",
    "#   callbacks=callbacks,\n",
    "#   validation_data=(x_valid_exp, y_valid),\n",
    "#   verbose=1\n",
    "# )"
   ]
  },
  {
   "cell_type": "code",
   "execution_count": 65,
   "metadata": {},
   "outputs": [],
   "source": [
    "# from tensorflow.keras.models import load_model\n",
    "\n",
    "# rnn_model = tf.keras.models.load_model('rnn_best_model.keras')\n",
    "# scores = rnn_model.evaluate(x_test_exp, y_test)\n",
    "\n",
    "# print('\\n''Test accuracy', scores[1])\n",
    "# print('\\n''Test loss', scores[0])\n",
    "# print('%s: %.2f%%'% (rnn_model.metrics_names[1], scores[1]*100))"
   ]
  },
  {
   "cell_type": "code",
   "execution_count": 77,
   "metadata": {},
   "outputs": [
    {
     "name": "stdout",
     "output_type": "stream",
     "text": [
      "Epoch 1/100\n",
      "\u001b[1m45/45\u001b[0m \u001b[32m━━━━━━━━━━━━━━━━━━━━\u001b[0m\u001b[37m\u001b[0m \u001b[1m66s\u001b[0m 1s/step - loss: 0.6938 - sparse_categorical_accuracy: 0.5194 - val_loss: 0.6869 - val_sparse_categorical_accuracy: 0.5132 - learning_rate: 0.0010\n",
      "Epoch 2/100\n",
      "\u001b[1m45/45\u001b[0m \u001b[32m━━━━━━━━━━━━━━━━━━━━\u001b[0m\u001b[37m\u001b[0m \u001b[1m61s\u001b[0m 1s/step - loss: 0.6724 - sparse_categorical_accuracy: 0.5694 - val_loss: 0.6550 - val_sparse_categorical_accuracy: 0.6505 - learning_rate: 0.0010\n",
      "Epoch 3/100\n",
      "\u001b[1m45/45\u001b[0m \u001b[32m━━━━━━━━━━━━━━━━━━━━\u001b[0m\u001b[37m\u001b[0m \u001b[1m60s\u001b[0m 1s/step - loss: 0.6908 - sparse_categorical_accuracy: 0.5558 - val_loss: 0.6253 - val_sparse_categorical_accuracy: 0.6727 - learning_rate: 0.0010\n",
      "Epoch 4/100\n",
      "\u001b[1m45/45\u001b[0m \u001b[32m━━━━━━━━━━━━━━━━━━━━\u001b[0m\u001b[37m\u001b[0m \u001b[1m62s\u001b[0m 1s/step - loss: 0.6136 - sparse_categorical_accuracy: 0.6547 - val_loss: 0.5522 - val_sparse_categorical_accuracy: 0.6949 - learning_rate: 0.0010\n",
      "Epoch 5/100\n",
      "\u001b[1m45/45\u001b[0m \u001b[32m━━━━━━━━━━━━━━━━━━━━\u001b[0m\u001b[37m\u001b[0m \u001b[1m62s\u001b[0m 1s/step - loss: 0.5447 - sparse_categorical_accuracy: 0.7068 - val_loss: 0.5404 - val_sparse_categorical_accuracy: 0.7143 - learning_rate: 0.0010\n",
      "Epoch 6/100\n",
      "\u001b[1m45/45\u001b[0m \u001b[32m━━━━━━━━━━━━━━━━━━━━\u001b[0m\u001b[37m\u001b[0m \u001b[1m59s\u001b[0m 1s/step - loss: 0.5172 - sparse_categorical_accuracy: 0.7366 - val_loss: 0.5094 - val_sparse_categorical_accuracy: 0.7282 - learning_rate: 0.0010\n",
      "Epoch 7/100\n",
      "\u001b[1m45/45\u001b[0m \u001b[32m━━━━━━━━━━━━━━━━━━━━\u001b[0m\u001b[37m\u001b[0m \u001b[1m63s\u001b[0m 1s/step - loss: 0.4911 - sparse_categorical_accuracy: 0.7625 - val_loss: 0.4130 - val_sparse_categorical_accuracy: 0.8183 - learning_rate: 0.0010\n",
      "Epoch 8/100\n",
      "\u001b[1m45/45\u001b[0m \u001b[32m━━━━━━━━━━━━━━━━━━━━\u001b[0m\u001b[37m\u001b[0m \u001b[1m61s\u001b[0m 1s/step - loss: 0.4206 - sparse_categorical_accuracy: 0.8051 - val_loss: 0.4707 - val_sparse_categorical_accuracy: 0.7725 - learning_rate: 0.0010\n",
      "Epoch 9/100\n",
      "\u001b[1m45/45\u001b[0m \u001b[32m━━━━━━━━━━━━━━━━━━━━\u001b[0m\u001b[37m\u001b[0m \u001b[1m61s\u001b[0m 1s/step - loss: 0.4663 - sparse_categorical_accuracy: 0.7686 - val_loss: 0.6980 - val_sparse_categorical_accuracy: 0.4868 - learning_rate: 0.0010\n",
      "Epoch 10/100\n",
      "\u001b[1m45/45\u001b[0m \u001b[32m━━━━━━━━━━━━━━━━━━━━\u001b[0m\u001b[37m\u001b[0m \u001b[1m58s\u001b[0m 1s/step - loss: 0.6992 - sparse_categorical_accuracy: 0.4816 - val_loss: 0.7137 - val_sparse_categorical_accuracy: 0.5132 - learning_rate: 0.0010\n",
      "Epoch 11/100\n",
      "\u001b[1m45/45\u001b[0m \u001b[32m━━━━━━━━━━━━━━━━━━━━\u001b[0m\u001b[37m\u001b[0m \u001b[1m55s\u001b[0m 1s/step - loss: 0.7084 - sparse_categorical_accuracy: 0.4805 - val_loss: 0.6941 - val_sparse_categorical_accuracy: 0.4868 - learning_rate: 0.0010\n",
      "Epoch 12/100\n",
      "\u001b[1m45/45\u001b[0m \u001b[32m━━━━━━━━━━━━━━━━━━━━\u001b[0m\u001b[37m\u001b[0m \u001b[1m56s\u001b[0m 1s/step - loss: 0.6951 - sparse_categorical_accuracy: 0.4955 - val_loss: 0.6932 - val_sparse_categorical_accuracy: 0.4868 - learning_rate: 0.0010\n",
      "Epoch 13/100\n",
      "\u001b[1m45/45\u001b[0m \u001b[32m━━━━━━━━━━━━━━━━━━━━\u001b[0m\u001b[37m\u001b[0m \u001b[1m56s\u001b[0m 1s/step - loss: 0.6945 - sparse_categorical_accuracy: 0.4979 - val_loss: 0.6941 - val_sparse_categorical_accuracy: 0.5132 - learning_rate: 0.0010\n",
      "Epoch 14/100\n",
      "\u001b[1m45/45\u001b[0m \u001b[32m━━━━━━━━━━━━━━━━━━━━\u001b[0m\u001b[37m\u001b[0m \u001b[1m56s\u001b[0m 1s/step - loss: 0.6935 - sparse_categorical_accuracy: 0.5243 - val_loss: 0.6948 - val_sparse_categorical_accuracy: 0.4868 - learning_rate: 0.0010\n",
      "Epoch 15/100\n",
      "\u001b[1m45/45\u001b[0m \u001b[32m━━━━━━━━━━━━━━━━━━━━\u001b[0m\u001b[37m\u001b[0m \u001b[1m56s\u001b[0m 1s/step - loss: 0.6942 - sparse_categorical_accuracy: 0.4953 - val_loss: 0.6931 - val_sparse_categorical_accuracy: 0.5132 - learning_rate: 0.0010\n",
      "Epoch 16/100\n",
      "\u001b[1m45/45\u001b[0m \u001b[32m━━━━━━━━━━━━━━━━━━━━\u001b[0m\u001b[37m\u001b[0m \u001b[1m56s\u001b[0m 1s/step - loss: 0.6949 - sparse_categorical_accuracy: 0.5086 - val_loss: 0.6939 - val_sparse_categorical_accuracy: 0.4868 - learning_rate: 0.0010\n",
      "Epoch 17/100\n",
      "\u001b[1m45/45\u001b[0m \u001b[32m━━━━━━━━━━━━━━━━━━━━\u001b[0m\u001b[37m\u001b[0m \u001b[1m56s\u001b[0m 1s/step - loss: 0.6935 - sparse_categorical_accuracy: 0.5085 - val_loss: 0.6930 - val_sparse_categorical_accuracy: 0.5132 - learning_rate: 0.0010\n",
      "Epoch 18/100\n",
      "\u001b[1m45/45\u001b[0m \u001b[32m━━━━━━━━━━━━━━━━━━━━\u001b[0m\u001b[37m\u001b[0m \u001b[1m56s\u001b[0m 1s/step - loss: 0.6936 - sparse_categorical_accuracy: 0.5070 - val_loss: 0.6928 - val_sparse_categorical_accuracy: 0.5132 - learning_rate: 5.0000e-04\n",
      "Epoch 19/100\n",
      "\u001b[1m45/45\u001b[0m \u001b[32m━━━━━━━━━━━━━━━━━━━━\u001b[0m\u001b[37m\u001b[0m \u001b[1m57s\u001b[0m 1s/step - loss: 0.6944 - sparse_categorical_accuracy: 0.4863 - val_loss: 0.6929 - val_sparse_categorical_accuracy: 0.5132 - learning_rate: 5.0000e-04\n",
      "Epoch 20/100\n",
      "\u001b[1m45/45\u001b[0m \u001b[32m━━━━━━━━━━━━━━━━━━━━\u001b[0m\u001b[37m\u001b[0m \u001b[1m55s\u001b[0m 1s/step - loss: 0.6929 - sparse_categorical_accuracy: 0.5171 - val_loss: 0.6928 - val_sparse_categorical_accuracy: 0.5132 - learning_rate: 5.0000e-04\n",
      "Epoch 21/100\n",
      "\u001b[1m45/45\u001b[0m \u001b[32m━━━━━━━━━━━━━━━━━━━━\u001b[0m\u001b[37m\u001b[0m \u001b[1m56s\u001b[0m 1s/step - loss: 0.6938 - sparse_categorical_accuracy: 0.5044 - val_loss: 0.6938 - val_sparse_categorical_accuracy: 0.5132 - learning_rate: 5.0000e-04\n",
      "Epoch 22/100\n",
      "\u001b[1m45/45\u001b[0m \u001b[32m━━━━━━━━━━━━━━━━━━━━\u001b[0m\u001b[37m\u001b[0m \u001b[1m57s\u001b[0m 1s/step - loss: 0.6938 - sparse_categorical_accuracy: 0.5126 - val_loss: 0.6930 - val_sparse_categorical_accuracy: 0.5187 - learning_rate: 5.0000e-04\n",
      "Epoch 22: early stopping\n",
      "\u001b[1m42/42\u001b[0m \u001b[32m━━━━━━━━━━━━━━━━━━━━\u001b[0m\u001b[37m\u001b[0m \u001b[1m8s\u001b[0m 197ms/step - loss: 0.6928 - sparse_categorical_accuracy: 0.5268\n",
      "Test accuracy: 0.5121212005615234\n",
      "Test loss: 0.6929771900177002\n"
     ]
    }
   ],
   "source": [
    "from tensorflow.keras.models import Sequential\n",
    "from tensorflow.keras.layers import LSTM, Bidirectional, Dense, Dropout, BatchNormalization\n",
    "from tensorflow.keras.layers import Attention, TimeDistributed\n",
    "from tensorflow.keras.callbacks import Callback, EarlyStopping, ModelCheckpoint, ReduceLROnPlateau, LearningRateScheduler\n",
    "import tensorflow as tf\n",
    "from tensorflow.keras.models import Model\n",
    "from tensorflow.keras.layers import Input, LSTM, Dense, Attention, GlobalAveragePooling1D\n",
    "\n",
    "def make_improved_rnn_model():\n",
    "    inputs = Input(shape=(500, 1))\n",
    "    x = LSTM(units=256, return_sequences=True)(inputs)\n",
    "    x, forward_h, forward_c = LSTM(units=128, return_sequences=True, return_state=True)(x)\n",
    "    \n",
    "    # Attention 레이어를 추가\n",
    "    attention = Attention()([x, x])  # query와 value를 동일하게 사용\n",
    "    x = GlobalAveragePooling1D()(attention)\n",
    "    x = Dense(100, activation='relu')(x)\n",
    "    outputs = Dense(2, activation='softmax')(x)\n",
    "    \n",
    "    model = Model(inputs, outputs)\n",
    "    return model\n",
    "\n",
    "improved_rnn_model = make_improved_rnn_model()\n",
    "\n",
    "# 모델 컴파일\n",
    "improved_rnn_model.compile(\n",
    "    loss='sparse_categorical_crossentropy',\n",
    "    optimizer= tf.keras.optimizers.Adam(learning_rate=0.001),\n",
    "    metrics=['sparse_categorical_accuracy']\n",
    ")\n",
    "/\n",
    "\n",
    "callbacks = [\n",
    "    ModelCheckpoint('improved_rnn_best_model.keras', monitor='val_loss', save_best_only=True),\n",
    "    ReduceLROnPlateau(monitor='val_loss', factor=0.5, patience=10, min_lr=0.0001),\n",
    "    EarlyStopping(monitor='val_loss', patience=15, verbose=1)\n",
    "]\n",
    "\n",
    "\n",
    "# 모델 학습\n",
    "history_improved_rnn = improved_rnn_model.fit(\n",
    "    x_train_exp, y_train,\n",
    "    batch_size=64,  # 기본 배치 크기 유지\n",
    "    epochs=100,\n",
    "    callbacks=callbacks,\n",
    "    validation_data=(x_valid_exp, y_valid),\n",
    "    verbose=1\n",
    ")\n",
    "\n",
    "# 테스트 성능 평가\n",
    "test_loss, test_accuracy = improved_rnn_model.evaluate(x_test_exp, y_test)\n",
    "print(f\"Test accuracy: {test_accuracy}\")\n",
    "print(f\"Test loss: {test_loss}\")\n",
    "\n",
    "# Bidirectional LSTM: 양방향 학습으로 패턴을 더 잘 학습하며, 이를 통해 성능 향상 기대.\n",
    "# Attention Mechanism: 시계열 데이터에서 중요한 타임스텝에 집중하여, 예측 정확도를 더욱 높입니다.\n",
    "# Dropout과 Batch Normalization: 모델의 일반화 성능을 높여 과적합을 방지합니다.\n",
    "# 이와 같은 개선을 통해 테스트 데이터 정확도와 손실이 더욱 향상될 것으로 기대되며, 다양한 타임스텝에 대한 정보 학습 능력이 개선됩니다.\n",
    "\n",
    "# Test accuracy: 0.9454545378684998\n",
    "# Test loss: 0.1742297261953354\n",
    "\n",
    "# def scheduler(epoch, lr):\n",
    "#     if epoch < 10:  # 20 에포크 동안 유지\n",
    "#         return lr\n",
    "#     else:\n",
    "#         return float(lr * tf.math.exp(-0.1))\n",
    "\n",
    "# # 콜백 설정 (스케쥴러 포함)\n",
    "# callbacks = [\n",
    "#     ModelCheckpoint('improved_rnn_best_model.keras', monitor='val_loss', save_best_only=True),\n",
    "#     ReduceLROnPlateau(monitor='val_loss', factor=0.5, patience=10, min_lr=0.0001),\n",
    "#     EarlyStopping(monitor='val_loss', patience=15, verbose=1),\n",
    "#     # LearningRateScheduler(scheduler)  # 추가된 학습률 스케쥴러 콜백\n",
    "# ]\n",
    "# Test accuracy: 0.935606062412262\n",
    "# Test loss: 0.16969677805900574\n",
    "\n",
    "# Test accuracy: 0.9340909123420715\n",
    "# Test loss: 0.21929402649402618"
   ]
  },
  {
   "cell_type": "code",
   "execution_count": 81,
   "metadata": {},
   "outputs": [
    {
     "name": "stdout",
     "output_type": "stream",
     "text": [
      "Epoch 1/100\n",
      "\u001b[1m45/45\u001b[0m \u001b[32m━━━━━━━━━━━━━━━━━━━━\u001b[0m\u001b[37m\u001b[0m \u001b[1m76s\u001b[0m 2s/step - loss: 0.6937 - sparse_categorical_accuracy: 0.4806 - val_loss: 0.6939 - val_sparse_categorical_accuracy: 0.5132 - learning_rate: 5.0000e-04\n",
      "Epoch 2/100\n",
      "\u001b[1m45/45\u001b[0m \u001b[32m━━━━━━━━━━━━━━━━━━━━\u001b[0m\u001b[37m\u001b[0m \u001b[1m69s\u001b[0m 2s/step - loss: 0.6930 - sparse_categorical_accuracy: 0.5152 - val_loss: 0.6913 - val_sparse_categorical_accuracy: 0.5132 - learning_rate: 5.0000e-04\n",
      "Epoch 3/100\n",
      "\u001b[1m45/45\u001b[0m \u001b[32m━━━━━━━━━━━━━━━━━━━━\u001b[0m\u001b[37m\u001b[0m \u001b[1m70s\u001b[0m 2s/step - loss: 0.6735 - sparse_categorical_accuracy: 0.5616 - val_loss: 0.5555 - val_sparse_categorical_accuracy: 0.7060 - learning_rate: 5.0000e-04\n",
      "Epoch 4/100\n",
      "\u001b[1m45/45\u001b[0m \u001b[32m━━━━━━━━━━━━━━━━━━━━\u001b[0m\u001b[37m\u001b[0m \u001b[1m69s\u001b[0m 2s/step - loss: 0.5672 - sparse_categorical_accuracy: 0.7017 - val_loss: 0.5331 - val_sparse_categorical_accuracy: 0.7198 - learning_rate: 5.0000e-04\n",
      "Epoch 5/100\n",
      "\u001b[1m45/45\u001b[0m \u001b[32m━━━━━━━━━━━━━━━━━━━━\u001b[0m\u001b[37m\u001b[0m \u001b[1m68s\u001b[0m 2s/step - loss: 0.5463 - sparse_categorical_accuracy: 0.7079 - val_loss: 0.5398 - val_sparse_categorical_accuracy: 0.7032 - learning_rate: 5.0000e-04\n",
      "Epoch 6/100\n",
      "\u001b[1m45/45\u001b[0m \u001b[32m━━━━━━━━━━━━━━━━━━━━\u001b[0m\u001b[37m\u001b[0m \u001b[1m70s\u001b[0m 2s/step - loss: 0.5368 - sparse_categorical_accuracy: 0.7166 - val_loss: 0.5630 - val_sparse_categorical_accuracy: 0.6768 - learning_rate: 5.0000e-04\n",
      "Epoch 7/100\n",
      "\u001b[1m45/45\u001b[0m \u001b[32m━━━━━━━━━━━━━━━━━━━━\u001b[0m\u001b[37m\u001b[0m \u001b[1m91s\u001b[0m 2s/step - loss: 0.5372 - sparse_categorical_accuracy: 0.7326 - val_loss: 0.5550 - val_sparse_categorical_accuracy: 0.6921 - learning_rate: 5.0000e-04\n",
      "Epoch 8/100\n",
      "\u001b[1m45/45\u001b[0m \u001b[32m━━━━━━━━━━━━━━━━━━━━\u001b[0m\u001b[37m\u001b[0m \u001b[1m150s\u001b[0m 3s/step - loss: 0.5255 - sparse_categorical_accuracy: 0.7271 - val_loss: 0.3972 - val_sparse_categorical_accuracy: 0.8405 - learning_rate: 5.0000e-04\n",
      "Epoch 9/100\n",
      "\u001b[1m45/45\u001b[0m \u001b[32m━━━━━━━━━━━━━━━━━━━━\u001b[0m\u001b[37m\u001b[0m \u001b[1m87s\u001b[0m 2s/step - loss: 0.3926 - sparse_categorical_accuracy: 0.8277 - val_loss: 0.3909 - val_sparse_categorical_accuracy: 0.8197 - learning_rate: 5.0000e-04\n",
      "Epoch 10/100\n",
      "\u001b[1m45/45\u001b[0m \u001b[32m━━━━━━━━━━━━━━━━━━━━\u001b[0m\u001b[37m\u001b[0m \u001b[1m73s\u001b[0m 2s/step - loss: 0.3920 - sparse_categorical_accuracy: 0.8260 - val_loss: 0.3586 - val_sparse_categorical_accuracy: 0.8377 - learning_rate: 5.0000e-04\n",
      "Epoch 11/100\n",
      "\u001b[1m45/45\u001b[0m \u001b[32m━━━━━━━━━━━━━━━━━━━━\u001b[0m\u001b[37m\u001b[0m \u001b[1m71s\u001b[0m 2s/step - loss: 0.3271 - sparse_categorical_accuracy: 0.8692 - val_loss: 0.3570 - val_sparse_categorical_accuracy: 0.8280 - learning_rate: 5.0000e-04\n",
      "Epoch 12/100\n",
      "\u001b[1m45/45\u001b[0m \u001b[32m━━━━━━━━━━━━━━━━━━━━\u001b[0m\u001b[37m\u001b[0m \u001b[1m120s\u001b[0m 3s/step - loss: 0.3096 - sparse_categorical_accuracy: 0.8665 - val_loss: 0.3015 - val_sparse_categorical_accuracy: 0.8641 - learning_rate: 5.0000e-04\n",
      "Epoch 13/100\n",
      "\u001b[1m45/45\u001b[0m \u001b[32m━━━━━━━━━━━━━━━━━━━━\u001b[0m\u001b[37m\u001b[0m \u001b[1m151s\u001b[0m 3s/step - loss: 0.3332 - sparse_categorical_accuracy: 0.8617 - val_loss: 0.3130 - val_sparse_categorical_accuracy: 0.8627 - learning_rate: 5.0000e-04\n",
      "Epoch 14/100\n",
      "\u001b[1m45/45\u001b[0m \u001b[32m━━━━━━━━━━━━━━━━━━━━\u001b[0m\u001b[37m\u001b[0m \u001b[1m153s\u001b[0m 3s/step - loss: 0.2826 - sparse_categorical_accuracy: 0.8791 - val_loss: 0.3160 - val_sparse_categorical_accuracy: 0.8544 - learning_rate: 5.0000e-04\n",
      "Epoch 15/100\n",
      "\u001b[1m45/45\u001b[0m \u001b[32m━━━━━━━━━━━━━━━━━━━━\u001b[0m\u001b[37m\u001b[0m \u001b[1m145s\u001b[0m 3s/step - loss: 0.2765 - sparse_categorical_accuracy: 0.8812 - val_loss: 0.2599 - val_sparse_categorical_accuracy: 0.8835 - learning_rate: 5.0000e-04\n",
      "Epoch 16/100\n",
      "\u001b[1m45/45\u001b[0m \u001b[32m━━━━━━━━━━━━━━━━━━━━\u001b[0m\u001b[37m\u001b[0m \u001b[1m155s\u001b[0m 3s/step - loss: 0.2354 - sparse_categorical_accuracy: 0.8991 - val_loss: 0.2437 - val_sparse_categorical_accuracy: 0.9001 - learning_rate: 5.0000e-04\n",
      "Epoch 17/100\n",
      "\u001b[1m45/45\u001b[0m \u001b[32m━━━━━━━━━━━━━━━━━━━━\u001b[0m\u001b[37m\u001b[0m \u001b[1m191s\u001b[0m 3s/step - loss: 0.2260 - sparse_categorical_accuracy: 0.9042 - val_loss: 0.2446 - val_sparse_categorical_accuracy: 0.9001 - learning_rate: 5.0000e-04\n",
      "Epoch 18/100\n",
      "\u001b[1m45/45\u001b[0m \u001b[32m━━━━━━━━━━━━━━━━━━━━\u001b[0m\u001b[37m\u001b[0m \u001b[1m71s\u001b[0m 2s/step - loss: 0.2050 - sparse_categorical_accuracy: 0.9154 - val_loss: 0.2469 - val_sparse_categorical_accuracy: 0.8863 - learning_rate: 5.0000e-04\n",
      "Epoch 19/100\n",
      "\u001b[1m45/45\u001b[0m \u001b[32m━━━━━━━━━━━━━━━━━━━━\u001b[0m\u001b[37m\u001b[0m \u001b[1m72s\u001b[0m 2s/step - loss: 0.2258 - sparse_categorical_accuracy: 0.9082 - val_loss: 0.2634 - val_sparse_categorical_accuracy: 0.8863 - learning_rate: 5.0000e-04\n",
      "Epoch 20/100\n",
      "\u001b[1m45/45\u001b[0m \u001b[32m━━━━━━━━━━━━━━━━━━━━\u001b[0m\u001b[37m\u001b[0m \u001b[1m75s\u001b[0m 2s/step - loss: 0.2252 - sparse_categorical_accuracy: 0.9133 - val_loss: 0.2032 - val_sparse_categorical_accuracy: 0.9098 - learning_rate: 5.0000e-04\n",
      "Epoch 21/100\n",
      "\u001b[1m45/45\u001b[0m \u001b[32m━━━━━━━━━━━━━━━━━━━━\u001b[0m\u001b[37m\u001b[0m \u001b[1m73s\u001b[0m 2s/step - loss: 0.2592 - sparse_categorical_accuracy: 0.8917 - val_loss: 0.2192 - val_sparse_categorical_accuracy: 0.9085 - learning_rate: 5.0000e-04\n",
      "Epoch 22/100\n",
      "\u001b[1m45/45\u001b[0m \u001b[32m━━━━━━━━━━━━━━━━━━━━\u001b[0m\u001b[37m\u001b[0m \u001b[1m74s\u001b[0m 2s/step - loss: 0.2115 - sparse_categorical_accuracy: 0.9069 - val_loss: 0.2041 - val_sparse_categorical_accuracy: 0.9112 - learning_rate: 5.0000e-04\n",
      "Epoch 23/100\n",
      "\u001b[1m45/45\u001b[0m \u001b[32m━━━━━━━━━━━━━━━━━━━━\u001b[0m\u001b[37m\u001b[0m \u001b[1m75s\u001b[0m 2s/step - loss: 0.2199 - sparse_categorical_accuracy: 0.9113 - val_loss: 0.1945 - val_sparse_categorical_accuracy: 0.9057 - learning_rate: 5.0000e-04\n",
      "Epoch 24/100\n",
      "\u001b[1m45/45\u001b[0m \u001b[32m━━━━━━━━━━━━━━━━━━━━\u001b[0m\u001b[37m\u001b[0m \u001b[1m114s\u001b[0m 3s/step - loss: 0.1990 - sparse_categorical_accuracy: 0.9262 - val_loss: 0.1937 - val_sparse_categorical_accuracy: 0.9126 - learning_rate: 5.0000e-04\n",
      "Epoch 25/100\n",
      "\u001b[1m45/45\u001b[0m \u001b[32m━━━━━━━━━━━━━━━━━━━━\u001b[0m\u001b[37m\u001b[0m \u001b[1m117s\u001b[0m 3s/step - loss: 0.2083 - sparse_categorical_accuracy: 0.9110 - val_loss: 0.2071 - val_sparse_categorical_accuracy: 0.9112 - learning_rate: 5.0000e-04\n",
      "Epoch 26/100\n",
      "\u001b[1m45/45\u001b[0m \u001b[32m━━━━━━━━━━━━━━━━━━━━\u001b[0m\u001b[37m\u001b[0m \u001b[1m73s\u001b[0m 2s/step - loss: 0.2082 - sparse_categorical_accuracy: 0.9158 - val_loss: 0.2165 - val_sparse_categorical_accuracy: 0.9071 - learning_rate: 5.0000e-04\n",
      "Epoch 27/100\n",
      "\u001b[1m45/45\u001b[0m \u001b[32m━━━━━━━━━━━━━━━━━━━━\u001b[0m\u001b[37m\u001b[0m \u001b[1m73s\u001b[0m 2s/step - loss: 0.1878 - sparse_categorical_accuracy: 0.9236 - val_loss: 0.2425 - val_sparse_categorical_accuracy: 0.8974 - learning_rate: 5.0000e-04\n",
      "Epoch 28/100\n",
      "\u001b[1m45/45\u001b[0m \u001b[32m━━━━━━━━━━━━━━━━━━━━\u001b[0m\u001b[37m\u001b[0m \u001b[1m74s\u001b[0m 2s/step - loss: 0.1979 - sparse_categorical_accuracy: 0.9183 - val_loss: 0.2164 - val_sparse_categorical_accuracy: 0.9071 - learning_rate: 5.0000e-04\n",
      "Epoch 29/100\n",
      "\u001b[1m45/45\u001b[0m \u001b[32m━━━━━━━━━━━━━━━━━━━━\u001b[0m\u001b[37m\u001b[0m \u001b[1m74s\u001b[0m 2s/step - loss: 0.2077 - sparse_categorical_accuracy: 0.9184 - val_loss: 0.3186 - val_sparse_categorical_accuracy: 0.8682 - learning_rate: 5.0000e-04\n",
      "Epoch 30/100\n",
      "\u001b[1m45/45\u001b[0m \u001b[32m━━━━━━━━━━━━━━━━━━━━\u001b[0m\u001b[37m\u001b[0m \u001b[1m74s\u001b[0m 2s/step - loss: 0.2373 - sparse_categorical_accuracy: 0.8991 - val_loss: 0.2240 - val_sparse_categorical_accuracy: 0.9057 - learning_rate: 2.5000e-04\n",
      "Epoch 31/100\n",
      "\u001b[1m45/45\u001b[0m \u001b[32m━━━━━━━━━━━━━━━━━━━━\u001b[0m\u001b[37m\u001b[0m \u001b[1m73s\u001b[0m 2s/step - loss: 0.2020 - sparse_categorical_accuracy: 0.9116 - val_loss: 0.2189 - val_sparse_categorical_accuracy: 0.8974 - learning_rate: 2.5000e-04\n",
      "Epoch 32/100\n",
      "\u001b[1m45/45\u001b[0m \u001b[32m━━━━━━━━━━━━━━━━━━━━\u001b[0m\u001b[37m\u001b[0m \u001b[1m73s\u001b[0m 2s/step - loss: 0.1844 - sparse_categorical_accuracy: 0.9254 - val_loss: 0.2095 - val_sparse_categorical_accuracy: 0.9112 - learning_rate: 2.5000e-04\n",
      "Epoch 33/100\n",
      "\u001b[1m45/45\u001b[0m \u001b[32m━━━━━━━━━━━━━━━━━━━━\u001b[0m\u001b[37m\u001b[0m \u001b[1m73s\u001b[0m 2s/step - loss: 0.1876 - sparse_categorical_accuracy: 0.9297 - val_loss: 0.2102 - val_sparse_categorical_accuracy: 0.9085 - learning_rate: 2.5000e-04\n",
      "Epoch 34/100\n",
      "\u001b[1m45/45\u001b[0m \u001b[32m━━━━━━━━━━━━━━━━━━━━\u001b[0m\u001b[37m\u001b[0m \u001b[1m76s\u001b[0m 2s/step - loss: 0.1689 - sparse_categorical_accuracy: 0.9359 - val_loss: 0.1970 - val_sparse_categorical_accuracy: 0.9154 - learning_rate: 2.5000e-04\n",
      "Epoch 35/100\n",
      "\u001b[1m45/45\u001b[0m \u001b[32m━━━━━━━━━━━━━━━━━━━━\u001b[0m\u001b[37m\u001b[0m \u001b[1m71s\u001b[0m 2s/step - loss: 0.1573 - sparse_categorical_accuracy: 0.9370 - val_loss: 0.2010 - val_sparse_categorical_accuracy: 0.9154 - learning_rate: 1.2500e-04\n",
      "Epoch 36/100\n",
      "\u001b[1m45/45\u001b[0m \u001b[32m━━━━━━━━━━━━━━━━━━━━\u001b[0m\u001b[37m\u001b[0m \u001b[1m71s\u001b[0m 2s/step - loss: 0.1557 - sparse_categorical_accuracy: 0.9356 - val_loss: 0.2024 - val_sparse_categorical_accuracy: 0.9126 - learning_rate: 1.2500e-04\n",
      "Epoch 37/100\n",
      "\u001b[1m45/45\u001b[0m \u001b[32m━━━━━━━━━━━━━━━━━━━━\u001b[0m\u001b[37m\u001b[0m \u001b[1m71s\u001b[0m 2s/step - loss: 0.1481 - sparse_categorical_accuracy: 0.9347 - val_loss: 0.1957 - val_sparse_categorical_accuracy: 0.9182 - learning_rate: 1.2500e-04\n",
      "Epoch 38/100\n",
      "\u001b[1m45/45\u001b[0m \u001b[32m━━━━━━━━━━━━━━━━━━━━\u001b[0m\u001b[37m\u001b[0m \u001b[1m72s\u001b[0m 2s/step - loss: 0.1628 - sparse_categorical_accuracy: 0.9341 - val_loss: 0.1983 - val_sparse_categorical_accuracy: 0.9154 - learning_rate: 1.2500e-04\n",
      "Epoch 39/100\n",
      "\u001b[1m45/45\u001b[0m \u001b[32m━━━━━━━━━━━━━━━━━━━━\u001b[0m\u001b[37m\u001b[0m \u001b[1m72s\u001b[0m 2s/step - loss: 0.1401 - sparse_categorical_accuracy: 0.9483 - val_loss: 0.2002 - val_sparse_categorical_accuracy: 0.9126 - learning_rate: 1.2500e-04\n",
      "Epoch 40/100\n",
      "\u001b[1m45/45\u001b[0m \u001b[32m━━━━━━━━━━━━━━━━━━━━\u001b[0m\u001b[37m\u001b[0m \u001b[1m73s\u001b[0m 2s/step - loss: 0.1349 - sparse_categorical_accuracy: 0.9486 - val_loss: 0.1970 - val_sparse_categorical_accuracy: 0.9126 - learning_rate: 1.0000e-04\n",
      "Epoch 41/100\n",
      "\u001b[1m45/45\u001b[0m \u001b[32m━━━━━━━━━━━━━━━━━━━━\u001b[0m\u001b[37m\u001b[0m \u001b[1m109s\u001b[0m 2s/step - loss: 0.1424 - sparse_categorical_accuracy: 0.9477 - val_loss: 0.2024 - val_sparse_categorical_accuracy: 0.9182 - learning_rate: 1.0000e-04\n",
      "Epoch 42/100\n",
      "\u001b[1m45/45\u001b[0m \u001b[32m━━━━━━━━━━━━━━━━━━━━\u001b[0m\u001b[37m\u001b[0m \u001b[1m89s\u001b[0m 2s/step - loss: 0.1343 - sparse_categorical_accuracy: 0.9442 - val_loss: 0.2124 - val_sparse_categorical_accuracy: 0.9098 - learning_rate: 1.0000e-04\n",
      "Epoch 43/100\n",
      "\u001b[1m45/45\u001b[0m \u001b[32m━━━━━━━━━━━━━━━━━━━━\u001b[0m\u001b[37m\u001b[0m \u001b[1m73s\u001b[0m 2s/step - loss: 0.1368 - sparse_categorical_accuracy: 0.9422 - val_loss: 0.2021 - val_sparse_categorical_accuracy: 0.9140 - learning_rate: 1.0000e-04\n",
      "Epoch 44/100\n",
      "\u001b[1m45/45\u001b[0m \u001b[32m━━━━━━━━━━━━━━━━━━━━\u001b[0m\u001b[37m\u001b[0m \u001b[1m72s\u001b[0m 2s/step - loss: 0.1379 - sparse_categorical_accuracy: 0.9496 - val_loss: 0.2112 - val_sparse_categorical_accuracy: 0.9168 - learning_rate: 1.0000e-04\n",
      "Epoch 44: early stopping\n",
      "\u001b[1m42/42\u001b[0m \u001b[32m━━━━━━━━━━━━━━━━━━━━\u001b[0m\u001b[37m\u001b[0m \u001b[1m6s\u001b[0m 143ms/step - loss: 0.1967 - sparse_categorical_accuracy: 0.9212\n",
      "Test accuracy: 0.9196969866752625\n",
      "Test loss: 0.20992328226566315\n"
     ]
    }
   ],
   "source": [
    "from tensorflow.keras.models import Sequential\n",
    "from tensorflow.keras.layers import Input, LSTM, Dense, Dropout, BatchNormalization, Bidirectional, GlobalAveragePooling1D\n",
    "from tensorflow.keras.callbacks import ModelCheckpoint, ReduceLROnPlateau, EarlyStopping\n",
    "import tensorflow as tf\n",
    "from tensorflow.keras.models import Model\n",
    "\n",
    "# 모델 구성\n",
    "def make_optimized_rnn_model():\n",
    "    inputs = Input(shape=(500, 1))\n",
    "    x = Bidirectional(LSTM(units=128, return_sequences=True))(inputs)\n",
    "    x = Dropout(0.3)(x)  # Dropout 추가\n",
    "    x = Bidirectional(LSTM(units=64, return_sequences=True))(x)\n",
    "    x = Dropout(0.3)(x)  # Dropout 추가\n",
    "    x = GlobalAveragePooling1D()(x)\n",
    "    x = Dense(50, activation='relu')(x)\n",
    "    x = Dense(2, activation='softmax')(x)\n",
    "    model = Model(inputs, x)\n",
    "    return model\n",
    "\n",
    "optimized_rnn_model = make_optimized_rnn_model()\n",
    "\n",
    "# 모델 컴파일\n",
    "optimized_rnn_model.compile(\n",
    "    loss='sparse_categorical_crossentropy',\n",
    "    optimizer=tf.keras.optimizers.Adam(learning_rate=0.0005),  # 더 낮은 학습률\n",
    "    metrics=['sparse_categorical_accuracy']\n",
    ")\n",
    "\n",
    "# 콜백 설정 (patience 조정)\n",
    "callbacks = [\n",
    "    ModelCheckpoint('optimized_rnn_best_model.keras', monitor='val_loss', save_best_only=True),\n",
    "    ReduceLROnPlateau(monitor='val_loss', factor=0.5, patience=5, min_lr=0.0001),\n",
    "    EarlyStopping(monitor='val_loss', patience=20, verbose=1)  # patience 증가\n",
    "]\n",
    "\n",
    "# 모델 학습\n",
    "history_optimized_rnn = optimized_rnn_model.fit(\n",
    "    x_train_exp, y_train,\n",
    "    batch_size=64,\n",
    "    epochs=100,\n",
    "    callbacks=callbacks,\n",
    "    validation_data=(x_valid_exp, y_valid),\n",
    "    verbose=1\n",
    ")\n",
    "\n",
    "# 테스트 성능 평가\n",
    "test_loss, test_accuracy = optimized_rnn_model.evaluate(x_test_exp, y_test)\n",
    "print(f\"Test accuracy: {test_accuracy}\")\n",
    "print(f\"Test loss: {test_loss}\")"
   ]
  },
  {
   "attachments": {},
   "cell_type": "markdown",
   "metadata": {},
   "source": [
    "#### (1) Confusion Matrix"
   ]
  },
  {
   "cell_type": "code",
   "execution_count": 84,
   "metadata": {},
   "outputs": [],
   "source": [
    "def draw_confusion_matrix(model, xt, yt, model_name):\n",
    "    Y_pred = model.predict(xt)\n",
    "    \n",
    "    # 이진 분류를 위한 확률을 클래스로 변환\n",
    "    y_pred = np.argmax(Y_pred, axis=1) if Y_pred.shape[1] > 1 else (Y_pred > 0.5).astype(\"int32\")\n",
    "\n",
    "    plt.figure(figsize=(3,3))\n",
    "    cm = confusion_matrix(yt, y_pred)\n",
    "    plt.imshow(cm, interpolation='nearest', cmap=plt.cm.Blues)\n",
    "    plt.title('Confusion Matrix')\n",
    "    plt.colorbar()\n",
    "    tick_marks = np.arange(2)\n",
    "    plt.xticks(tick_marks, ['False', 'True'], rotation=45)\n",
    "    plt.yticks(tick_marks, ['False', 'True'])\n",
    "    thresh = cm.max() / 2\n",
    "    fmt = 'd'\n",
    "    for i, j in itertools.product(range(cm.shape[0]), range(cm.shape[1])):\n",
    "        plt.text(j, i, format(cm[i, j], fmt),\n",
    "                 horizontalalignment='center',\n",
    "                 color='white' if cm[i, j] > thresh else 'black')\n",
    "    plt.ylabel('Actual Label')\n",
    "    plt.xlabel('Predicted Label')\n",
    "    plt.tight_layout()\n",
    "    plt.savefig(f'{model_name}_cm.png', dpi=100, bbox_inches='tight')\n",
    "    plt.show()\n",
    "    print(classification_report(yt, y_pred))"
   ]
  },
  {
   "cell_type": "code",
   "execution_count": 85,
   "metadata": {},
   "outputs": [
    {
     "name": "stdout",
     "output_type": "stream",
     "text": [
      "\u001b[1m42/42\u001b[0m \u001b[32m━━━━━━━━━━━━━━━━━━━━\u001b[0m\u001b[37m\u001b[0m \u001b[1m5s\u001b[0m 127ms/step\n"
     ]
    },
    {
     "data": {
      "image/png": "[encoded data removed]",
      "text/plain": [
       "<Figure size 300x300 with 2 Axes>"
      ]
     },
     "metadata": {},
     "output_type": "display_data"
    },
    {
     "name": "stdout",
     "output_type": "stream",
     "text": [
      "              precision    recall  f1-score   support\n",
      "\n",
      "         0.0       0.95      0.89      0.92       681\n",
      "         1.0       0.89      0.95      0.92       639\n",
      "\n",
      "    accuracy                           0.92      1320\n",
      "   macro avg       0.92      0.92      0.92      1320\n",
      "weighted avg       0.92      0.92      0.92      1320\n",
      "\n"
     ]
    }
   ],
   "source": [
    "draw_confusion_matrix(optimized_rnn_model, x_test_exp, y_test, 'optimized_rnn')"
   ]
  },
  {
   "attachments": {},
   "cell_type": "markdown",
   "metadata": {},
   "source": [
    "#### (2) ROC Curve"
   ]
  },
  {
   "cell_type": "code",
   "execution_count": 87,
   "metadata": {},
   "outputs": [],
   "source": [
    "def draw_roc(model, xt, yt, model_name):\n",
    "    Y_pred = model.predict(xt)\n",
    "    \n",
    "    # 양성 클래스(클래스 1)의 확률만 가져옵니다\n",
    "    y_pred_proba = Y_pred[:, 1] if Y_pred.shape[1] > 1 else Y_pred\n",
    "\n",
    "    fpr, tpr, thr = roc_curve(yt, y_pred_proba)\n",
    "    roc_auc = auc(fpr, tpr)\n",
    "    \n",
    "    plt.figure()\n",
    "    plt.plot(fpr, tpr, color='darkorange', lw=2, label='ROC curve (area = %0.4f)' % roc_auc)\n",
    "    plt.plot([0, 1], [0, 1], color='navy', lw=2, linestyle='--')\n",
    "    plt.xlim([0.0, 1.0])\n",
    "    plt.ylim([0.0, 1.05])\n",
    "    plt.xlabel('False Positive Rate')\n",
    "    plt.ylabel('True Positive Rate')\n",
    "    plt.title(f'ROC Curve - {model_name}')\n",
    "    plt.legend(loc='lower right')\n",
    "    plt.tight_layout()\n",
    "    plt.savefig(f'{model_name}_roc.png', dpi=100, bbox_inches='tight')\n",
    "    plt.show()"
   ]
  },
  {
   "cell_type": "code",
   "execution_count": 88,
   "metadata": {},
   "outputs": [
    {
     "name": "stdout",
     "output_type": "stream",
     "text": [
      "\u001b[1m42/42\u001b[0m \u001b[32m━━━━━━━━━━━━━━━━━━━━\u001b[0m\u001b[37m\u001b[0m \u001b[1m5s\u001b[0m 127ms/step\n"
     ]
    },
    {
     "data": {
      "image/png": "[encoded data removed]",
      "text/plain": [
       "<Figure size 640x480 with 1 Axes>"
      ]
     },
     "metadata": {},
     "output_type": "display_data"
    }
   ],
   "source": [
    "draw_roc(optimized_rnn_model, x_test_exp, y_test, 'optimized_rnn')"
   ]
  },
  {
   "attachments": {},
   "cell_type": "markdown",
   "metadata": {},
   "source": [
    "#### (3) Learning Curve: Epoch에 따른 학습, 검증 손실 (Loss) 추이"
   ]
  },
  {
   "cell_type": "code",
   "execution_count": 86,
   "metadata": {},
   "outputs": [
    {
     "data": {
      "image/png": "[encoded data removed]",
      "text/plain": [
       "<Figure size 640x480 with 1 Axes>"
      ]
     },
     "metadata": {},
     "output_type": "display_data"
    }
   ],
   "source": [
    "plot_loss_graph(history_optimized_rnn, 'optimized_rnn')"
   ]
  },
  {
   "attachments": {},
   "cell_type": "markdown",
   "metadata": {},
   "source": [
    "#### (4) Learning Curve: Epoch에 따른 학습, 검증 정확도 추이"
   ]
  },
  {
   "cell_type": "code",
   "execution_count": 89,
   "metadata": {},
   "outputs": [
    {
     "data": {
      "image/png": "[encoded data removed]",
      "text/plain": [
       "<Figure size 640x480 with 1 Axes>"
      ]
     },
     "metadata": {},
     "output_type": "display_data"
    }
   ],
   "source": [
    "plot_prediction_graph(history_optimized_rnn, 'optimized_rnn')"
   ]
  },
  {
   "cell_type": "code",
   "execution_count": null,
   "metadata": {},
   "outputs": [],
   "source": []
  }
 ],
 "metadata": {
  "kernelspec": {
   "display_name": "Python 3",
   "language": "python",
   "name": "python3"
  },
  "language_info": {
   "codemirror_mode": {
    "name": "ipython",
    "version": 3
   },
   "file_extension": ".py",
   "mimetype": "text/x-python",
   "name": "python",
   "nbconvert_exporter": "python",
   "pygments_lexer": "ipython3",
   "version": "3.12.0"
  },
  "orig_nbformat": 4,
  "vscode": {
   "interpreter": {
    "hash": "3fcbd7240ee8f908d933dc7f71e8c42a1a91163b70ede8dcff5146d4087436c7"
   }
  }
 },
 "nbformat": 4,
 "nbformat_minor": 2
}
